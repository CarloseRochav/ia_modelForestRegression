{
 "cells": [
  {
   "cell_type": "code",
   "execution_count": 5,
   "metadata": {},
   "outputs": [],
   "source": [
    "import pandas as pd\n"
   ]
  },
  {
   "cell_type": "code",
   "execution_count": 4,
   "metadata": {},
   "outputs": [],
   "source": [
    "\n",
    "# Leer el archivo Excel\n",
    "df = pd.read_excel('./tabla_grupos.xlsx')\n",
    "\n",
    "# Guardar como archivo CSV\n",
    "df.to_csv('tabla_grupos.csv', index=False)\n"
   ]
  },
  {
   "cell_type": "code",
   "execution_count": 11,
   "metadata": {},
   "outputs": [],
   "source": [
    "#Carggar mi archivo a un dataframe\n",
    "\n",
    "\n",
    "# Cargar el archivo CSV en un DataFrame\n",
    "df = pd.read_csv('tabla_grupos.csv')\n",
    "\n",
    "\n"
   ]
  },
  {
   "cell_type": "code",
   "execution_count": 13,
   "metadata": {},
   "outputs": [
    {
     "name": "stdout",
     "output_type": "stream",
     "text": [
      "      Año  Periodo             Grado  Número de grupos\n",
      "0    2012        2   Primer semestre                 0\n",
      "1    2012        2  Segundo semestre                15\n",
      "2    2012        2   Tercer semestre                18\n",
      "3    2012        2   Cuarto semestre                12\n",
      "4    2012        2   Quinto semestre                18\n",
      "..    ...      ...               ...               ...\n",
      "193  2023        1   Quinto semestre                14\n",
      "194  2023        1    Sexto semestre                18\n",
      "195  2023        1  Séptimo semestre                17\n",
      "196  2023        1   Octavo semestre                14\n",
      "197  2023        1   Noveno semestre                10\n",
      "\n",
      "[198 rows x 4 columns]\n"
     ]
    }
   ],
   "source": [
    "# Realizar operaciones con el DataFrame cargado\n",
    "# Por ejemplo, imprimir las primeras filas\n",
    "print(df )"
   ]
  }
 ],
 "metadata": {
  "kernelspec": {
   "display_name": "Python 3",
   "language": "python",
   "name": "python3"
  },
  "language_info": {
   "codemirror_mode": {
    "name": "ipython",
    "version": 3
   },
   "file_extension": ".py",
   "mimetype": "text/x-python",
   "name": "python",
   "nbconvert_exporter": "python",
   "pygments_lexer": "ipython3",
   "version": "3.11.2"
  },
  "orig_nbformat": 4
 },
 "nbformat": 4,
 "nbformat_minor": 2
}
