{
 "cells": [
  {
   "cell_type": "code",
   "execution_count": 2,
   "metadata": {},
   "outputs": [],
   "source": [
    "import pandas as pd\n",
    "from sklearn.ensemble import RandomForestRegressor\n",
    "from sklearn.metrics import mean_absolute_error\n",
    "from sklearn.model_selection import train_test_split\n",
    "import numpy as np"
   ]
  },
  {
   "cell_type": "code",
   "execution_count": 3,
   "metadata": {},
   "outputs": [],
   "source": [
    "# Carga de datos \n",
    "#df = pd.read_csv('../data/period_sem_table.csv')\n",
    "dfBeta = pd.read_csv('../data/period_sem_table_modified.csv')\n",
    "df = dfBeta.round()"
   ]
  },
  {
   "cell_type": "code",
   "execution_count": 3,
   "metadata": {},
   "outputs": [
    {
     "data": {
      "text/html": [
       "<div>\n",
       "<style scoped>\n",
       "    .dataframe tbody tr th:only-of-type {\n",
       "        vertical-align: middle;\n",
       "    }\n",
       "\n",
       "    .dataframe tbody tr th {\n",
       "        vertical-align: top;\n",
       "    }\n",
       "\n",
       "    .dataframe thead th {\n",
       "        text-align: right;\n",
       "    }\n",
       "</style>\n",
       "<table border=\"1\" class=\"dataframe\">\n",
       "  <thead>\n",
       "    <tr style=\"text-align: right;\">\n",
       "      <th></th>\n",
       "      <th>periodo_1</th>\n",
       "      <th>periodo_2</th>\n",
       "      <th>periodo_3</th>\n",
       "      <th>periodo_4</th>\n",
       "      <th>periodo_5</th>\n",
       "      <th>periodo_6</th>\n",
       "      <th>periodo_7</th>\n",
       "      <th>periodo_8</th>\n",
       "      <th>periodo_9</th>\n",
       "      <th>periodo_10</th>\n",
       "      <th>...</th>\n",
       "      <th>periodo_13</th>\n",
       "      <th>periodo_14</th>\n",
       "      <th>periodo_15</th>\n",
       "      <th>periodo_16</th>\n",
       "      <th>periodo_17</th>\n",
       "      <th>periodo_18</th>\n",
       "      <th>periodo_19</th>\n",
       "      <th>periodo_20</th>\n",
       "      <th>periodo_21</th>\n",
       "      <th>periodo_22</th>\n",
       "    </tr>\n",
       "  </thead>\n",
       "  <tbody>\n",
       "    <tr>\n",
       "      <th>0</th>\n",
       "      <td>3.0</td>\n",
       "      <td>2.0</td>\n",
       "      <td>3.0</td>\n",
       "      <td>1.0</td>\n",
       "      <td>4.0</td>\n",
       "      <td>2.0</td>\n",
       "      <td>2.0</td>\n",
       "      <td>1.0</td>\n",
       "      <td>2.0</td>\n",
       "      <td>2.0</td>\n",
       "      <td>...</td>\n",
       "      <td>3.0</td>\n",
       "      <td>4.0</td>\n",
       "      <td>3.0</td>\n",
       "      <td>4.0</td>\n",
       "      <td>3.0</td>\n",
       "      <td>3.0</td>\n",
       "      <td>3.0</td>\n",
       "      <td>6.0</td>\n",
       "      <td>3.0</td>\n",
       "      <td>3.0</td>\n",
       "    </tr>\n",
       "    <tr>\n",
       "      <th>1</th>\n",
       "      <td>15.0</td>\n",
       "      <td>24.0</td>\n",
       "      <td>19.0</td>\n",
       "      <td>19.0</td>\n",
       "      <td>19.0</td>\n",
       "      <td>32.0</td>\n",
       "      <td>14.0</td>\n",
       "      <td>26.0</td>\n",
       "      <td>22.0</td>\n",
       "      <td>25.0</td>\n",
       "      <td>...</td>\n",
       "      <td>20.0</td>\n",
       "      <td>22.0</td>\n",
       "      <td>21.0</td>\n",
       "      <td>22.0</td>\n",
       "      <td>24.0</td>\n",
       "      <td>30.0</td>\n",
       "      <td>23.0</td>\n",
       "      <td>26.0</td>\n",
       "      <td>21.0</td>\n",
       "      <td>23.0</td>\n",
       "    </tr>\n",
       "    <tr>\n",
       "      <th>2</th>\n",
       "      <td>18.0</td>\n",
       "      <td>19.0</td>\n",
       "      <td>22.0</td>\n",
       "      <td>18.0</td>\n",
       "      <td>18.0</td>\n",
       "      <td>18.0</td>\n",
       "      <td>24.0</td>\n",
       "      <td>14.0</td>\n",
       "      <td>13.0</td>\n",
       "      <td>15.0</td>\n",
       "      <td>...</td>\n",
       "      <td>21.0</td>\n",
       "      <td>18.0</td>\n",
       "      <td>19.0</td>\n",
       "      <td>18.0</td>\n",
       "      <td>20.0</td>\n",
       "      <td>19.0</td>\n",
       "      <td>24.0</td>\n",
       "      <td>23.0</td>\n",
       "      <td>24.0</td>\n",
       "      <td>20.0</td>\n",
       "    </tr>\n",
       "    <tr>\n",
       "      <th>3</th>\n",
       "      <td>12.0</td>\n",
       "      <td>13.0</td>\n",
       "      <td>17.0</td>\n",
       "      <td>18.0</td>\n",
       "      <td>18.0</td>\n",
       "      <td>18.0</td>\n",
       "      <td>17.0</td>\n",
       "      <td>23.0</td>\n",
       "      <td>22.0</td>\n",
       "      <td>13.0</td>\n",
       "      <td>...</td>\n",
       "      <td>16.0</td>\n",
       "      <td>18.0</td>\n",
       "      <td>18.0</td>\n",
       "      <td>18.0</td>\n",
       "      <td>19.0</td>\n",
       "      <td>20.0</td>\n",
       "      <td>18.0</td>\n",
       "      <td>24.0</td>\n",
       "      <td>18.0</td>\n",
       "      <td>18.0</td>\n",
       "    </tr>\n",
       "    <tr>\n",
       "      <th>4</th>\n",
       "      <td>18.0</td>\n",
       "      <td>14.0</td>\n",
       "      <td>12.0</td>\n",
       "      <td>12.0</td>\n",
       "      <td>12.0</td>\n",
       "      <td>17.0</td>\n",
       "      <td>18.0</td>\n",
       "      <td>16.0</td>\n",
       "      <td>18.0</td>\n",
       "      <td>12.0</td>\n",
       "      <td>...</td>\n",
       "      <td>18.0</td>\n",
       "      <td>12.0</td>\n",
       "      <td>17.0</td>\n",
       "      <td>12.0</td>\n",
       "      <td>18.0</td>\n",
       "      <td>18.0</td>\n",
       "      <td>18.0</td>\n",
       "      <td>18.0</td>\n",
       "      <td>17.0</td>\n",
       "      <td>14.0</td>\n",
       "    </tr>\n",
       "    <tr>\n",
       "      <th>5</th>\n",
       "      <td>14.0</td>\n",
       "      <td>12.0</td>\n",
       "      <td>12.0</td>\n",
       "      <td>12.0</td>\n",
       "      <td>12.0</td>\n",
       "      <td>12.0</td>\n",
       "      <td>14.0</td>\n",
       "      <td>18.0</td>\n",
       "      <td>14.0</td>\n",
       "      <td>14.0</td>\n",
       "      <td>...</td>\n",
       "      <td>12.0</td>\n",
       "      <td>12.0</td>\n",
       "      <td>12.0</td>\n",
       "      <td>12.0</td>\n",
       "      <td>12.0</td>\n",
       "      <td>18.0</td>\n",
       "      <td>12.0</td>\n",
       "      <td>18.0</td>\n",
       "      <td>22.0</td>\n",
       "      <td>18.0</td>\n",
       "    </tr>\n",
       "    <tr>\n",
       "      <th>6</th>\n",
       "      <td>14.0</td>\n",
       "      <td>14.0</td>\n",
       "      <td>12.0</td>\n",
       "      <td>13.0</td>\n",
       "      <td>14.0</td>\n",
       "      <td>12.0</td>\n",
       "      <td>12.0</td>\n",
       "      <td>12.0</td>\n",
       "      <td>19.0</td>\n",
       "      <td>12.0</td>\n",
       "      <td>...</td>\n",
       "      <td>16.0</td>\n",
       "      <td>10.0</td>\n",
       "      <td>18.0</td>\n",
       "      <td>13.0</td>\n",
       "      <td>18.0</td>\n",
       "      <td>12.0</td>\n",
       "      <td>18.0</td>\n",
       "      <td>18.0</td>\n",
       "      <td>18.0</td>\n",
       "      <td>17.0</td>\n",
       "    </tr>\n",
       "    <tr>\n",
       "      <th>7</th>\n",
       "      <td>13.0</td>\n",
       "      <td>13.0</td>\n",
       "      <td>10.0</td>\n",
       "      <td>15.0</td>\n",
       "      <td>15.0</td>\n",
       "      <td>12.0</td>\n",
       "      <td>11.0</td>\n",
       "      <td>12.0</td>\n",
       "      <td>13.0</td>\n",
       "      <td>12.0</td>\n",
       "      <td>...</td>\n",
       "      <td>15.0</td>\n",
       "      <td>15.0</td>\n",
       "      <td>15.0</td>\n",
       "      <td>15.0</td>\n",
       "      <td>17.0</td>\n",
       "      <td>18.0</td>\n",
       "      <td>14.0</td>\n",
       "      <td>12.0</td>\n",
       "      <td>11.0</td>\n",
       "      <td>14.0</td>\n",
       "    </tr>\n",
       "    <tr>\n",
       "      <th>8</th>\n",
       "      <td>9.0</td>\n",
       "      <td>9.0</td>\n",
       "      <td>9.0</td>\n",
       "      <td>2.0</td>\n",
       "      <td>2.0</td>\n",
       "      <td>7.0</td>\n",
       "      <td>6.0</td>\n",
       "      <td>5.0</td>\n",
       "      <td>4.0</td>\n",
       "      <td>6.0</td>\n",
       "      <td>...</td>\n",
       "      <td>13.0</td>\n",
       "      <td>11.0</td>\n",
       "      <td>11.0</td>\n",
       "      <td>11.0</td>\n",
       "      <td>10.0</td>\n",
       "      <td>11.0</td>\n",
       "      <td>11.0</td>\n",
       "      <td>16.0</td>\n",
       "      <td>14.0</td>\n",
       "      <td>10.0</td>\n",
       "    </tr>\n",
       "  </tbody>\n",
       "</table>\n",
       "<p>9 rows × 22 columns</p>\n",
       "</div>"
      ],
      "text/plain": [
       "   periodo_1  periodo_2  periodo_3  periodo_4  periodo_5  periodo_6  \\\n",
       "0        3.0        2.0        3.0        1.0        4.0        2.0   \n",
       "1       15.0       24.0       19.0       19.0       19.0       32.0   \n",
       "2       18.0       19.0       22.0       18.0       18.0       18.0   \n",
       "3       12.0       13.0       17.0       18.0       18.0       18.0   \n",
       "4       18.0       14.0       12.0       12.0       12.0       17.0   \n",
       "5       14.0       12.0       12.0       12.0       12.0       12.0   \n",
       "6       14.0       14.0       12.0       13.0       14.0       12.0   \n",
       "7       13.0       13.0       10.0       15.0       15.0       12.0   \n",
       "8        9.0        9.0        9.0        2.0        2.0        7.0   \n",
       "\n",
       "   periodo_7  periodo_8  periodo_9  periodo_10  ...  periodo_13  periodo_14  \\\n",
       "0        2.0        1.0        2.0         2.0  ...         3.0         4.0   \n",
       "1       14.0       26.0       22.0        25.0  ...        20.0        22.0   \n",
       "2       24.0       14.0       13.0        15.0  ...        21.0        18.0   \n",
       "3       17.0       23.0       22.0        13.0  ...        16.0        18.0   \n",
       "4       18.0       16.0       18.0        12.0  ...        18.0        12.0   \n",
       "5       14.0       18.0       14.0        14.0  ...        12.0        12.0   \n",
       "6       12.0       12.0       19.0        12.0  ...        16.0        10.0   \n",
       "7       11.0       12.0       13.0        12.0  ...        15.0        15.0   \n",
       "8        6.0        5.0        4.0         6.0  ...        13.0        11.0   \n",
       "\n",
       "   periodo_15  periodo_16  periodo_17  periodo_18  periodo_19  periodo_20  \\\n",
       "0         3.0         4.0         3.0         3.0         3.0         6.0   \n",
       "1        21.0        22.0        24.0        30.0        23.0        26.0   \n",
       "2        19.0        18.0        20.0        19.0        24.0        23.0   \n",
       "3        18.0        18.0        19.0        20.0        18.0        24.0   \n",
       "4        17.0        12.0        18.0        18.0        18.0        18.0   \n",
       "5        12.0        12.0        12.0        18.0        12.0        18.0   \n",
       "6        18.0        13.0        18.0        12.0        18.0        18.0   \n",
       "7        15.0        15.0        17.0        18.0        14.0        12.0   \n",
       "8        11.0        11.0        10.0        11.0        11.0        16.0   \n",
       "\n",
       "   periodo_21  periodo_22  \n",
       "0         3.0         3.0  \n",
       "1        21.0        23.0  \n",
       "2        24.0        20.0  \n",
       "3        18.0        18.0  \n",
       "4        17.0        14.0  \n",
       "5        22.0        18.0  \n",
       "6        18.0        17.0  \n",
       "7        11.0        14.0  \n",
       "8        14.0        10.0  \n",
       "\n",
       "[9 rows x 22 columns]"
      ]
     },
     "execution_count": 3,
     "metadata": {},
     "output_type": "execute_result"
    }
   ],
   "source": [
    "df"
   ]
  },
  {
   "cell_type": "code",
   "execution_count": 26,
   "metadata": {},
   "outputs": [],
   "source": [
    "# # Crea un boxplot para cada columna\n",
    "# for column in df:\n",
    "#   plt.figure()\n",
    "#   plt.boxplot(df[column])\n",
    "#   plt.title(column)\n",
    "#   plt.show()"
   ]
  },
  {
   "cell_type": "code",
   "execution_count": 4,
   "metadata": {},
   "outputs": [],
   "source": [
    "# Entrenamiento\n",
    "X = df.iloc[:,0:21] # Columnas de periodos 1-22\n",
    "y = df.iloc[:,21] # Periodo 22 como target"
   ]
  },
  {
   "cell_type": "code",
   "execution_count": 28,
   "metadata": {},
   "outputs": [
    {
     "data": {
      "text/html": [
       "<style>#sk-container-id-3 {color: black;}#sk-container-id-3 pre{padding: 0;}#sk-container-id-3 div.sk-toggleable {background-color: white;}#sk-container-id-3 label.sk-toggleable__label {cursor: pointer;display: block;width: 100%;margin-bottom: 0;padding: 0.3em;box-sizing: border-box;text-align: center;}#sk-container-id-3 label.sk-toggleable__label-arrow:before {content: \"▸\";float: left;margin-right: 0.25em;color: #696969;}#sk-container-id-3 label.sk-toggleable__label-arrow:hover:before {color: black;}#sk-container-id-3 div.sk-estimator:hover label.sk-toggleable__label-arrow:before {color: black;}#sk-container-id-3 div.sk-toggleable__content {max-height: 0;max-width: 0;overflow: hidden;text-align: left;background-color: #f0f8ff;}#sk-container-id-3 div.sk-toggleable__content pre {margin: 0.2em;color: black;border-radius: 0.25em;background-color: #f0f8ff;}#sk-container-id-3 input.sk-toggleable__control:checked~div.sk-toggleable__content {max-height: 200px;max-width: 100%;overflow: auto;}#sk-container-id-3 input.sk-toggleable__control:checked~label.sk-toggleable__label-arrow:before {content: \"▾\";}#sk-container-id-3 div.sk-estimator input.sk-toggleable__control:checked~label.sk-toggleable__label {background-color: #d4ebff;}#sk-container-id-3 div.sk-label input.sk-toggleable__control:checked~label.sk-toggleable__label {background-color: #d4ebff;}#sk-container-id-3 input.sk-hidden--visually {border: 0;clip: rect(1px 1px 1px 1px);clip: rect(1px, 1px, 1px, 1px);height: 1px;margin: -1px;overflow: hidden;padding: 0;position: absolute;width: 1px;}#sk-container-id-3 div.sk-estimator {font-family: monospace;background-color: #f0f8ff;border: 1px dotted black;border-radius: 0.25em;box-sizing: border-box;margin-bottom: 0.5em;}#sk-container-id-3 div.sk-estimator:hover {background-color: #d4ebff;}#sk-container-id-3 div.sk-parallel-item::after {content: \"\";width: 100%;border-bottom: 1px solid gray;flex-grow: 1;}#sk-container-id-3 div.sk-label:hover label.sk-toggleable__label {background-color: #d4ebff;}#sk-container-id-3 div.sk-serial::before {content: \"\";position: absolute;border-left: 1px solid gray;box-sizing: border-box;top: 0;bottom: 0;left: 50%;z-index: 0;}#sk-container-id-3 div.sk-serial {display: flex;flex-direction: column;align-items: center;background-color: white;padding-right: 0.2em;padding-left: 0.2em;position: relative;}#sk-container-id-3 div.sk-item {position: relative;z-index: 1;}#sk-container-id-3 div.sk-parallel {display: flex;align-items: stretch;justify-content: center;background-color: white;position: relative;}#sk-container-id-3 div.sk-item::before, #sk-container-id-3 div.sk-parallel-item::before {content: \"\";position: absolute;border-left: 1px solid gray;box-sizing: border-box;top: 0;bottom: 0;left: 50%;z-index: -1;}#sk-container-id-3 div.sk-parallel-item {display: flex;flex-direction: column;z-index: 1;position: relative;background-color: white;}#sk-container-id-3 div.sk-parallel-item:first-child::after {align-self: flex-end;width: 50%;}#sk-container-id-3 div.sk-parallel-item:last-child::after {align-self: flex-start;width: 50%;}#sk-container-id-3 div.sk-parallel-item:only-child::after {width: 0;}#sk-container-id-3 div.sk-dashed-wrapped {border: 1px dashed gray;margin: 0 0.4em 0.5em 0.4em;box-sizing: border-box;padding-bottom: 0.4em;background-color: white;}#sk-container-id-3 div.sk-label label {font-family: monospace;font-weight: bold;display: inline-block;line-height: 1.2em;}#sk-container-id-3 div.sk-label-container {text-align: center;}#sk-container-id-3 div.sk-container {/* jupyter's `normalize.less` sets `[hidden] { display: none; }` but bootstrap.min.css set `[hidden] { display: none !important; }` so we also need the `!important` here to be able to override the default hidden behavior on the sphinx rendered scikit-learn.org. See: https://github.com/scikit-learn/scikit-learn/issues/21755 */display: inline-block !important;position: relative;}#sk-container-id-3 div.sk-text-repr-fallback {display: none;}</style><div id=\"sk-container-id-3\" class=\"sk-top-container\"><div class=\"sk-text-repr-fallback\"><pre>RandomForestRegressor()</pre><b>In a Jupyter environment, please rerun this cell to show the HTML representation or trust the notebook. <br />On GitHub, the HTML representation is unable to render, please try loading this page with nbviewer.org.</b></div><div class=\"sk-container\" hidden><div class=\"sk-item\"><div class=\"sk-estimator sk-toggleable\"><input class=\"sk-toggleable__control sk-hidden--visually\" id=\"sk-estimator-id-3\" type=\"checkbox\" checked><label for=\"sk-estimator-id-3\" class=\"sk-toggleable__label sk-toggleable__label-arrow\">RandomForestRegressor</label><div class=\"sk-toggleable__content\"><pre>RandomForestRegressor()</pre></div></div></div></div></div>"
      ],
      "text/plain": [
       "RandomForestRegressor()"
      ]
     },
     "execution_count": 28,
     "metadata": {},
     "output_type": "execute_result"
    }
   ],
   "source": [
    "rf = RandomForestRegressor()\n",
    "rf.fit(X, y)"
   ]
  },
  {
   "cell_type": "code",
   "execution_count": 29,
   "metadata": {},
   "outputs": [],
   "source": [
    "# Predicciones para periodo 23 \n",
    "predictions = rf.predict(X)"
   ]
  },
  {
   "cell_type": "code",
   "execution_count": 30,
   "metadata": {},
   "outputs": [
    {
     "name": "stdout",
     "output_type": "stream",
     "text": [
      "Semestre 1: 5.87\n",
      "Semestre 2: 21.16\n",
      "Semestre 3: 19.55\n",
      "Semestre 4: 17.77\n",
      "Semestre 5: 15.22\n",
      "Semestre 6: 17.0\n",
      "Semestre 7: 16.21\n",
      "Semestre 8: 14.5\n",
      "Semestre 9: 11.21\n"
     ]
    }
   ],
   "source": [
    "# Mostrar predicciones\n",
    "for i in range(9):\n",
    "  print(f\"Semestre {i+1}: {predictions[i]}\")"
   ]
  },
  {
   "cell_type": "code",
   "execution_count": 31,
   "metadata": {},
   "outputs": [
    {
     "name": "stdout",
     "output_type": "stream",
     "text": [
      "Semestre 1: 6.0\n",
      "Semestre 2: 21.0\n",
      "Semestre 3: 20.0\n",
      "Semestre 4: 18.0\n",
      "Semestre 5: 15.0\n",
      "Semestre 6: 17.0\n",
      "Semestre 7: 16.0\n",
      "Semestre 8: 14.0\n",
      "Semestre 9: 11.0\n"
     ]
    }
   ],
   "source": [
    "# Redondea los valores del array al entero más cercano\n",
    "rounded_arr = np.around(predictions)\n",
    "\n",
    "# Imprime el array redondeado\n",
    "#print(rounded_arr)\n",
    "\n",
    "for i in range(9):\n",
    "  print(f\"Semestre {i+1}: {rounded_arr[i]}\")"
   ]
  },
  {
   "cell_type": "code",
   "execution_count": 32,
   "metadata": {},
   "outputs": [
    {
     "name": "stdout",
     "output_type": "stream",
     "text": [
      "Archivo CSV generado exitosamente: resultados.csv\n"
     ]
    }
   ],
   "source": [
    "#GUARDAR SALIDA EN ARCHIVO   CSV\n",
    "import csv\n",
    "\n",
    "# Nombre del archivo CSV\n",
    "archivo_csv = \"resultados.csv\"\n",
    "\n",
    "# Generar los mensajes y guardarlos en una lista\n",
    "messages = []\n",
    "for i in range(9):\n",
    "    message = f\"Semestre {i+1}: {rounded_arr[i]}\"\n",
    "    messages.append([message])\n",
    "\n",
    "# Guardar los mensajes en el archivo CSV\n",
    "with open(archivo_csv, mode=\"w\", newline=\"\") as file:\n",
    "    writer = csv.writer(file)\n",
    "    writer.writerows(messages)\n",
    "\n",
    "print(\"Archivo CSV generado exitosamente:\", archivo_csv)"
   ]
  },
  {
   "cell_type": "code",
   "execution_count": 33,
   "metadata": {},
   "outputs": [
    {
     "name": "stdout",
     "output_type": "stream",
     "text": [
      "Archivo JSON generado exitosamente: resultados.json\n"
     ]
    }
   ],
   "source": [
    "#GUARDAR SALIDA EN UN ARHCIVO    JSON\n",
    "import json\n",
    "\n",
    "# Nombre del archivo JSON\n",
    "archivo_json = \"resultados.json\"\n",
    "\n",
    "# Generar los mensajes y guardarlos en un diccionario\n",
    "messages = {}\n",
    "for i in range(9):\n",
    "    #message = f\"Semestre {i+1}: {rounded_arr[i]}\"\n",
    "    message = rounded_arr[i]\n",
    "    messages[f\"Semestre_{i+1}\"] = message\n",
    "\n",
    "# Guardar los mensajes en el archivo JSON\n",
    "with open(archivo_json, \"w\") as file:\n",
    "    json.dump(messages, file, indent=4)\n",
    "\n",
    "print(\"Archivo JSON generado exitosamente:\", archivo_json)"
   ]
  },
  {
   "cell_type": "markdown",
   "metadata": {},
   "source": [
    "### 1er Grafica"
   ]
  },
  {
   "cell_type": "code",
   "execution_count": 5,
   "metadata": {},
   "outputs": [
    {
     "name": "stdout",
     "output_type": "stream",
     "text": [
      "Semestre 1 : 2.77\n",
      "Semestre 2 : 22.55\n",
      "Semestre 3 : 19.32\n",
      "Semestre 4 : 17.59\n",
      "Semestre 5 : 15.5\n",
      "Semestre 6 : 14.14\n",
      "Semestre 7 : 14.32\n",
      "Semestre 8 : 13.41\n",
      "Semestre 9 : 8.77\n"
     ]
    },
    {
     "data": {
      "image/png": "[encoded data removed]",
      "text/plain": [
       "<Figure size 640x480 with 1 Axes>"
      ]
     },
     "metadata": {},
     "output_type": "display_data"
    }
   ],
   "source": [
    "\n",
    "from scipy import stats\n",
    "import matplotlib.pyplot as plt #Bibioteca para iterar\n",
    "\n",
    "\n",
    "df = dfBeta.round()\n",
    "\n",
    "aMean = []\n",
    "aMedian = []\n",
    "aMode = []\n",
    "\n",
    "    # Iterar sobre cada fila \n",
    "for index, row in df.iterrows():        \n",
    "    # Extraer los valores de la fila en un array\n",
    "    values = row.to_numpy()        \n",
    "    # Calcular estadísticas\n",
    "    mean = np.mean(values)\n",
    "    median = np.median(values)\n",
    "    mode = stats.mode(values)\n",
    "    # trend = linregress(np.arange(len(values)), values).slope\n",
    "\n",
    "    #Redondear valores de los promedios antes de regrezar al archivo json, al valor mas cercano\n",
    "    #meanRounded = [round_to_closest(number) for number in mean]\n",
    "    #print(\"Prmedios redondeados : \",mean,\" Tipo de dato : \",type(mean))\n",
    "    mean_rounded = np.around(mean, decimals=2)\n",
    "\n",
    "\n",
    "        #Guardar valores de arreglos\n",
    "    aMean.append(mean_rounded)\n",
    "    aMedian.append(median)\n",
    "    aMode.append(mode.mode)        \n",
    "\n",
    "    # print(\"Sin iterar : \",aMean)\n",
    "\n",
    "# for i in range(len(aMean)):\n",
    "#      print(\"Semestre\",i+1,\":\",aMean[i])\n",
    "\n",
    "for i,value in enumerate(aMean):\n",
    "    print(\"Semestre\",i+1,\":\",value)\n",
    "\n",
    "\n",
    "# Crear un arreglo de valores\n",
    "x = np.array(aMean)\n",
    "y = np.array(range(1,len(aMean)+1))\n",
    "\n",
    "# Graficar los valores\n",
    "plt.plot(x, y, marker='o')  # Utilice 'o' para marcar los puntos en el gráfico\n",
    "plt.xlabel('Eje X')  # Etiqueta del eje X\n",
    "plt.ylabel('Eje Y')  # Etiqueta del eje Y\n",
    "#plt.title('Gráfico de valores')  # Título del gráfico\n",
    "plt.title('Gráfico de valores')  # Título del gráfico\n",
    "plt.show()  # Mostrar el gráfico\n",
    "\n",
    "\n"
   ]
  },
  {
   "cell_type": "markdown",
   "metadata": {},
   "source": [
    "### Calculos con headers y renglones del DataSource"
   ]
  },
  {
   "cell_type": "code",
   "execution_count": 31,
   "metadata": {},
   "outputs": [
    {
     "name": "stdout",
     "output_type": "stream",
     "text": [
      "['periodo_1', 'periodo_2', 'periodo_3', 'periodo_4', 'periodo_5', 'periodo_6', 'periodo_7', 'periodo_8', 'periodo_9', 'periodo_10', 'periodo_11', 'periodo_12', 'periodo_13', 'periodo_14', 'periodo_15', 'periodo_16', 'periodo_17', 'periodo_18', 'periodo_19', 'periodo_20', 'periodo_21', 'periodo_22']\n",
      "Semestre 1  :  [3. 2. 3. 1. 4. 2. 2. 1. 2. 2. 2. 2. 3. 4. 3. 4. 3. 3. 3. 6. 3. 3.]\n",
      "Semestre 2  :  [15. 24. 19. 19. 19. 32. 14. 26. 22. 25. 24. 25. 20. 22. 21. 22. 24. 30.\n",
      " 23. 26. 21. 23.]\n",
      "Semestre 3  :  [18. 19. 22. 18. 18. 18. 24. 14. 13. 15. 21. 19. 21. 18. 19. 18. 20. 19.\n",
      " 24. 23. 24. 20.]\n",
      "Semestre 4  :  [12. 13. 17. 18. 18. 18. 17. 23. 22. 13. 12. 17. 16. 18. 18. 18. 19. 20.\n",
      " 18. 24. 18. 18.]\n",
      "Semestre 5  :  [18. 14. 12. 12. 12. 17. 18. 16. 18. 12. 18. 12. 18. 12. 17. 12. 18. 18.\n",
      " 18. 18. 17. 14.]\n",
      "Semestre 6  :  [14. 12. 12. 12. 12. 12. 14. 18. 14. 14. 12. 17. 12. 12. 12. 12. 12. 18.\n",
      " 12. 18. 22. 18.]\n",
      "Semestre 7  :  [14. 14. 12. 13. 14. 12. 12. 12. 19. 12. 13. 10. 16. 10. 18. 13. 18. 12.\n",
      " 18. 18. 18. 17.]\n",
      "Semestre 8  :  [13. 13. 10. 15. 15. 12. 11. 12. 13. 12. 11. 12. 15. 15. 15. 15. 17. 18.\n",
      " 14. 12. 11. 14.]\n",
      "Semestre 9  :  [ 9.  9.  9.  2.  2.  7.  6.  5.  4.  6.  8.  8. 13. 11. 11. 11. 10. 11.\n",
      " 11. 16. 14. 10.]\n"
     ]
    }
   ],
   "source": [
    "import pandas as pd\n",
    "\n",
    "# Extraer los encabezados como una lista\n",
    "headers = list(df.columns) #Extraccion de los encabezados del archivo CSV\n",
    "\n",
    "# Impresion de arreglo con los encabezados\n",
    "print(headers)\n",
    "\n",
    "# Extraer todos los renglones del DataFrame\n",
    "todos_renglones = df.iloc[:, :] #Extraccion de todos los registros del dataframe\n",
    "\n",
    "# Extraer todos los renglones del DataFrame como un arreglo\n",
    "arreglo_renglones = df.values\n",
    "\n",
    "\n",
    "#Impresion de los valores de cada semestre a lo largo de los periodos\n",
    "for i,value in enumerate(arreglo_renglones):\n",
    "    print(\"Semestre\",i+1,\" : \",value)\n",
    "\n",
    "\n",
    "# Crear un arreglo de valores\n",
    "x1 = np.array(arreglo_renglones[0])\n",
    "y1= np.array(headers)\n",
    "\n",
    "\n",
    "#LINEA RECTA\n",
    "# Agregar una línea diagonal en el medio de la tendencia\n",
    "#plt.plot([x[0], x[-1]], [np.mean(y), np.mean(y)], color='r', linestyle='--')\n",
    "\n",
    "\n",
    "# Graficar los valores\n",
    "# plt.plot(x1, y1, marker='o')  # Utilice 'o' para marcar los puntos en el gráfico\n",
    "# plt.xlabel('Eje X')  # Etiqueta del eje X\n",
    "# plt.ylabel('Eje Y')  # Etiqueta del eje Y\n",
    "# plt.title('Gráfico de valores')  # Título del gráfico\n",
    "# plt.show()  # Mostrar el gráfico\n"
   ]
  },
  {
   "cell_type": "markdown",
   "metadata": {},
   "source": [
    "### Identificacion de tendencia"
   ]
  },
  {
   "cell_type": "code",
   "execution_count": 28,
   "metadata": {},
   "outputs": [
    {
     "data": {
      "image/png": "[encoded data removed]",
      "text/plain": [
       "<Figure size 640x480 with 1 Axes>"
      ]
     },
     "metadata": {},
     "output_type": "display_data"
    }
   ],
   "source": [
    "import numpy as np\n",
    "import pandas as pd\n",
    "import matplotlib.pyplot as plt\n",
    "#from scipy.stats import polyfit\n",
    "\n",
    "# Ajustar los datos a una línea de mejor ajuste\n",
    "coeficientes, covario = np.polyfit(x1.astype(\"int64\"), range(len(y1)), 1)\n",
    "\n",
    "# Calcular las predicciones utilizando la línea de mejor ajuste\n",
    "#predicciones = np.poly1d(coeficientes)(x)\n",
    "predicciones = np.poly1d(coeficientes)(x1.astype(\"int64\"))\n",
    "\n",
    "# Graficar los valores y la línea de mejor ajuste\n",
    "#plt.plot(x1.astype(\"int64\"), range(len(y1)), marker='o')\n",
    "#plt.plot(x1.astype(\"int64\"), predicciones, '-r')  # Utilice '-r' para dibujar la línea de mejor ajuste\n",
    "plt.plot(range(len(y1)), x1.astype(\"int64\"),  marker='o')\n",
    "plt.plot(predicciones, x1.astype(\"int64\"),  '-r')  # Utilice '-r' para dibujar la línea de mejor ajuste\n",
    "\n",
    "\n",
    "# Ajustar el formato de la gráfica para que se vea claramente la tendencia\n",
    "#plt.xlabel('Eje X')  # Etiqueta del eje X\n",
    "#plt.ylabel('Eje Y')  # Etiqueta del eje Y\n",
    "plt.xlabel('Periodo')  # Etiqueta del eje X\n",
    "plt.ylabel('Grupos')  # Etiqueta del eje Y\n",
    "#plt.title('Gráfico de valores con tendencia y línea de mejor ajuste')  # Título del gráfico\n",
    "plt.title('Grado Semestre 1')  # Título del gráfico\n",
    "plt.show()  # Mostrar el gráfico"
   ]
  },
  {
   "cell_type": "markdown",
   "metadata": {},
   "source": [
    "### Valores del 1er Semestre"
   ]
  },
  {
   "cell_type": "code",
   "execution_count": 37,
   "metadata": {},
   "outputs": [
    {
     "data": {
      "image/png": "[encoded data removed]",
      "text/plain": [
       "<Figure size 640x480 with 1 Axes>"
      ]
     },
     "metadata": {},
     "output_type": "display_data"
    }
   ],
   "source": [
    "import matplotlib.pyplot as plt\n",
    "import numpy as np\n",
    "\n",
    "# x1 = [3, 2, 3, 1, 4, 2, 2, 1, 2, 2, 2, 2, 3, 4, 3, 4, 3, 3, 3, 6, 3, 3]\n",
    "# y1 = ['periodo_1', 'periodo_2', 'periodo_3', 'periodo_4', 'periodo_5', 'periodo_6', 'periodo_7', 'periodo_8', 'periodo_9', 'periodo_10', 'periodo_11', 'periodo_12', 'periodo_13', 'periodo_14', 'periodo_15', 'periodo_16', 'periodo_17', 'periodo_18', 'periodo_19', 'periodo_20', 'periodo_21', 'periodo_22']\n",
    "\n",
    "fig = plt.figure(dpi=100)\n",
    "plt.plot(range(len(x1)), x1, 'o')\n",
    "media = np.mean(x1)\n",
    "plt.plot(range(len(x1)), [media]*len(x1), 'r--', linewidth=2)\n",
    "plt.xticks(range(len(x1)), y1, rotation=90) \n",
    "plt.xlabel('Periodo')\n",
    "plt.ylabel('Grupos')\n",
    "plt.title('Grado Semestre 1')  \n",
    "        \n",
    "plt.show()"
   ]
  },
  {
   "cell_type": "markdown",
   "metadata": {},
   "source": [
    "- Mostrar la media como una línea punteada para resaltar la tendencia:\n",
    "- La línea punteada roja marcará la media para identificar la tendencia central."
   ]
  },
  {
   "cell_type": "markdown",
   "metadata": {},
   "source": [
    "### Valores del 1er Semestre, marcando la tendencia con sombreado"
   ]
  },
  {
   "cell_type": "code",
   "execution_count": 36,
   "metadata": {},
   "outputs": [
    {
     "data": {
      "image/png": "[encoded data removed]",
      "text/plain": [
       "<Figure size 640x480 with 1 Axes>"
      ]
     },
     "metadata": {},
     "output_type": "display_data"
    }
   ],
   "source": [
    "import numpy as np\n",
    "import matplotlib.pyplot as plt\n",
    "\n",
    "# x1 = [3, 2, 3, 1, 4, 2, 2, 1, 2, 2, 2, 2, 3, 4, 3, 4, 3, 3, 3, 6, 3, 3] \n",
    "# y1 = ['periodo_1', 'periodo_2', 'periodo_3', 'periodo_4', 'periodo_5', 'periodo_6', 'periodo_7', 'periodo_8', \n",
    "#        'periodo_9', 'periodo_10', 'periodo_11', 'periodo_12', 'periodo_13', 'periodo_14', 'periodo_15',  \n",
    "#        'periodo_16', 'periodo_17', 'periodo_18', 'periodo_19', 'periodo_20', 'periodo_21', 'periodo_22']\n",
    "\n",
    "fig = plt.figure(dpi=100)\n",
    "plt.plot(range(len(x1)), x1, 'o')\n",
    "\n",
    "media = np.mean(x1) \n",
    "desviacion = np.std(x1)\n",
    "\n",
    "plt.fill_between(range(len(x1)), media - desviacion,  \n",
    "                 media + desviacion, alpha=0.2)\n",
    "\n",
    "plt.xticks(range(len(x1)), y1, rotation=90)  \n",
    "plt.xlabel('Periodo')\n",
    "plt.ylabel('Grupos')\n",
    "plt.title('Grado Semestre 1')  \n",
    "\n",
    "plt.show()"
   ]
  },
  {
   "cell_type": "markdown",
   "metadata": {},
   "source": [
    "- De esta forma resaltamos aproximadamente el 68% de los datos alrededor de la media (asumiendo distribución normal), sin que los valores extremos afecten mucho el área sombreada.\n",
    "\n",
    "El gráfico con el sombreado alrededor de la media y la desviación estándar haya quedado mejor.\n",
    "\n",
    "Al utilizar medidas estadísticas como la media y desviación estándar podemos resaltar visualmente la tendencia central de los datos, sin que los valores atípicos extremos extiendan demasiado el área sombreada."
   ]
  }
 ],
 "metadata": {
  "kernelspec": {
   "display_name": "Python 3",
   "language": "python",
   "name": "python3"
  },
  "language_info": {
   "codemirror_mode": {
    "name": "ipython",
    "version": 3
   },
   "file_extension": ".py",
   "mimetype": "text/x-python",
   "name": "python",
   "nbconvert_exporter": "python",
   "pygments_lexer": "ipython3",
   "version": "3.12.0"
  },
  "orig_nbformat": 4
 },
 "nbformat": 4,
 "nbformat_minor": 2
}
