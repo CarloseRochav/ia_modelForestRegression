{
 "cells": [
  {
   "cell_type": "code",
   "execution_count": 1,
   "metadata": {},
   "outputs": [],
   "source": [
    "#Lybraries need\n",
    "import pandas as pd\n",
    "from sklearn.model_selection import train_test_split\n",
    "from sklearn.naive_bayes import GaussianNB\n",
    "from sklearn.metrics import accuracy_score\n"
   ]
  },
  {
   "cell_type": "code",
   "execution_count": 2,
   "metadata": {},
   "outputs": [],
   "source": [
    "# Cargar los datos desde el archivo CSV\n",
    "#df = pd.read_csv('../tabla_gruposNew.csv', encoding='utf-8') #Archivo con los datos historicos\n",
    "df = pd.read_csv('../tabla_gruposNewNoSeason.csv', encoding='utf-8') #Archivo con los datos historicos\n",
    "\n"
   ]
  },
  {
   "cell_type": "code",
   "execution_count": 3,
   "metadata": {},
   "outputs": [
    {
     "name": "stdout",
     "output_type": "stream",
     "text": [
      "     anio  grado  numero de grupos\n",
      "0    2012    1.5                 0\n",
      "1    2012    2.5                15\n",
      "2    2012    3.5                18\n",
      "3    2012    4.5                12\n",
      "4    2012    5.5                18\n",
      "..    ...    ...               ...\n",
      "193  2023    5.0                14\n",
      "194  2023    6.0                18\n",
      "195  2023    7.0                17\n",
      "196  2023    8.0                14\n",
      "197  2023    9.0                10\n",
      "\n",
      "[198 rows x 3 columns]\n"
     ]
    }
   ],
   "source": [
    "print(df)"
   ]
  },
  {
   "cell_type": "code",
   "execution_count": 4,
   "metadata": {},
   "outputs": [],
   "source": [
    "# Dividir los datos en características (X) y variable objetivo (y)\n",
    "X = df.drop(['numero de grupos'], axis=1)  # Características\n",
    "y = df['numero de grupos']  # Variable objetivo"
   ]
  },
  {
   "cell_type": "code",
   "execution_count": 5,
   "metadata": {},
   "outputs": [],
   "source": [
    "# Dividir los datos en conjuntos de entrenamiento y prueba\n",
    "X_train, X_test, y_train, y_test = train_test_split(X, y, test_size=0.2, random_state=42)"
   ]
  },
  {
   "cell_type": "code",
   "execution_count": 6,
   "metadata": {},
   "outputs": [],
   "source": [
    "# Crear el modelo Naive Bayes\n",
    "model = GaussianNB()"
   ]
  },
  {
   "cell_type": "code",
   "execution_count": 9,
   "metadata": {},
   "outputs": [],
   "source": [
    "# #Como arrojo error al momento de entrenar el modelo, ya que muestra un mensage sobre que no se puede convertir valores string a float\n",
    "# #Implementaremos codificacion one-hot\n",
    "# from sklearn.preprocessing import OneHotEncoder\n",
    "\n",
    "# # Aplicar codificación one-hot a las variables categóricas\n",
    "# df_encoded = pd.get_dummies(df, columns=['periodo', 'grado'])\n",
    "\n",
    "# #volvemos a repetir las operaciones previas pero con los datos decodificados ->>"
   ]
  },
  {
   "cell_type": "code",
   "execution_count": 10,
   "metadata": {},
   "outputs": [],
   "source": [
    "# Dividir los datos en características (X) y variable objetivo (y)\n",
    "#X = df_encoded.drop(['numero de grupos'], axis=1)  # Características\n",
    "#y = df_encoded['numero de grupos']  # Variable objetivo\n",
    "\n",
    "# Dividir los datos en conjuntos de entrenamiento y prueba\n",
    "X_train, X_test, y_train, y_test = train_test_split(X, y, test_size=0.2, random_state=42)"
   ]
  },
  {
   "cell_type": "code",
   "execution_count": 11,
   "metadata": {},
   "outputs": [
    {
     "data": {
      "text/html": [
       "<style>#sk-container-id-1 {color: black;}#sk-container-id-1 pre{padding: 0;}#sk-container-id-1 div.sk-toggleable {background-color: white;}#sk-container-id-1 label.sk-toggleable__label {cursor: pointer;display: block;width: 100%;margin-bottom: 0;padding: 0.3em;box-sizing: border-box;text-align: center;}#sk-container-id-1 label.sk-toggleable__label-arrow:before {content: \"▸\";float: left;margin-right: 0.25em;color: #696969;}#sk-container-id-1 label.sk-toggleable__label-arrow:hover:before {color: black;}#sk-container-id-1 div.sk-estimator:hover label.sk-toggleable__label-arrow:before {color: black;}#sk-container-id-1 div.sk-toggleable__content {max-height: 0;max-width: 0;overflow: hidden;text-align: left;background-color: #f0f8ff;}#sk-container-id-1 div.sk-toggleable__content pre {margin: 0.2em;color: black;border-radius: 0.25em;background-color: #f0f8ff;}#sk-container-id-1 input.sk-toggleable__control:checked~div.sk-toggleable__content {max-height: 200px;max-width: 100%;overflow: auto;}#sk-container-id-1 input.sk-toggleable__control:checked~label.sk-toggleable__label-arrow:before {content: \"▾\";}#sk-container-id-1 div.sk-estimator input.sk-toggleable__control:checked~label.sk-toggleable__label {background-color: #d4ebff;}#sk-container-id-1 div.sk-label input.sk-toggleable__control:checked~label.sk-toggleable__label {background-color: #d4ebff;}#sk-container-id-1 input.sk-hidden--visually {border: 0;clip: rect(1px 1px 1px 1px);clip: rect(1px, 1px, 1px, 1px);height: 1px;margin: -1px;overflow: hidden;padding: 0;position: absolute;width: 1px;}#sk-container-id-1 div.sk-estimator {font-family: monospace;background-color: #f0f8ff;border: 1px dotted black;border-radius: 0.25em;box-sizing: border-box;margin-bottom: 0.5em;}#sk-container-id-1 div.sk-estimator:hover {background-color: #d4ebff;}#sk-container-id-1 div.sk-parallel-item::after {content: \"\";width: 100%;border-bottom: 1px solid gray;flex-grow: 1;}#sk-container-id-1 div.sk-label:hover label.sk-toggleable__label {background-color: #d4ebff;}#sk-container-id-1 div.sk-serial::before {content: \"\";position: absolute;border-left: 1px solid gray;box-sizing: border-box;top: 0;bottom: 0;left: 50%;z-index: 0;}#sk-container-id-1 div.sk-serial {display: flex;flex-direction: column;align-items: center;background-color: white;padding-right: 0.2em;padding-left: 0.2em;position: relative;}#sk-container-id-1 div.sk-item {position: relative;z-index: 1;}#sk-container-id-1 div.sk-parallel {display: flex;align-items: stretch;justify-content: center;background-color: white;position: relative;}#sk-container-id-1 div.sk-item::before, #sk-container-id-1 div.sk-parallel-item::before {content: \"\";position: absolute;border-left: 1px solid gray;box-sizing: border-box;top: 0;bottom: 0;left: 50%;z-index: -1;}#sk-container-id-1 div.sk-parallel-item {display: flex;flex-direction: column;z-index: 1;position: relative;background-color: white;}#sk-container-id-1 div.sk-parallel-item:first-child::after {align-self: flex-end;width: 50%;}#sk-container-id-1 div.sk-parallel-item:last-child::after {align-self: flex-start;width: 50%;}#sk-container-id-1 div.sk-parallel-item:only-child::after {width: 0;}#sk-container-id-1 div.sk-dashed-wrapped {border: 1px dashed gray;margin: 0 0.4em 0.5em 0.4em;box-sizing: border-box;padding-bottom: 0.4em;background-color: white;}#sk-container-id-1 div.sk-label label {font-family: monospace;font-weight: bold;display: inline-block;line-height: 1.2em;}#sk-container-id-1 div.sk-label-container {text-align: center;}#sk-container-id-1 div.sk-container {/* jupyter's `normalize.less` sets `[hidden] { display: none; }` but bootstrap.min.css set `[hidden] { display: none !important; }` so we also need the `!important` here to be able to override the default hidden behavior on the sphinx rendered scikit-learn.org. See: https://github.com/scikit-learn/scikit-learn/issues/21755 */display: inline-block !important;position: relative;}#sk-container-id-1 div.sk-text-repr-fallback {display: none;}</style><div id=\"sk-container-id-1\" class=\"sk-top-container\"><div class=\"sk-text-repr-fallback\"><pre>GaussianNB()</pre><b>In a Jupyter environment, please rerun this cell to show the HTML representation or trust the notebook. <br />On GitHub, the HTML representation is unable to render, please try loading this page with nbviewer.org.</b></div><div class=\"sk-container\" hidden><div class=\"sk-item\"><div class=\"sk-estimator sk-toggleable\"><input class=\"sk-toggleable__control sk-hidden--visually\" id=\"sk-estimator-id-1\" type=\"checkbox\" checked><label for=\"sk-estimator-id-1\" class=\"sk-toggleable__label sk-toggleable__label-arrow\">GaussianNB</label><div class=\"sk-toggleable__content\"><pre>GaussianNB()</pre></div></div></div></div></div>"
      ],
      "text/plain": [
       "GaussianNB()"
      ]
     },
     "execution_count": 11,
     "metadata": {},
     "output_type": "execute_result"
    }
   ],
   "source": [
    "# Entrenar el modelo con los datos de entrenamiento\n",
    "model.fit(X_train, y_train)"
   ]
  },
  {
   "cell_type": "code",
   "execution_count": 12,
   "metadata": {},
   "outputs": [],
   "source": [
    "# Realizar predicciones en el conjunto de prueba\n",
    "y_pred = model.predict(X_test)"
   ]
  },
  {
   "cell_type": "code",
   "execution_count": 13,
   "metadata": {},
   "outputs": [
    {
     "name": "stdout",
     "output_type": "stream",
     "text": [
      "[24 12  0 12 18  3 18 18 19 18 18 12 19 18 11  1 12  1 18 18 12 11 12 10\n",
      "  2 12 21 24  1 18 12 12 11 26 12 24 12  3 19 12]\n"
     ]
    }
   ],
   "source": [
    "print(y_pred)"
   ]
  },
  {
   "cell_type": "code",
   "execution_count": 14,
   "metadata": {},
   "outputs": [
    {
     "name": "stdout",
     "output_type": "stream",
     "text": [
      "Precisión del modelo: 30.00%\n"
     ]
    }
   ],
   "source": [
    "# Calcular la precisión del modelo\n",
    "accuracy = accuracy_score(y_test, y_pred)\n",
    "print(\"Precisión del modelo: {:.2f}%\".format(accuracy * 100))"
   ]
  },
  {
   "cell_type": "code",
   "execution_count": 15,
   "metadata": {},
   "outputs": [
    {
     "name": "stdout",
     "output_type": "stream",
     "text": [
      "   Periodo             Grado  Numero de grupos\n",
      "0        1   Primer semestre                24\n",
      "1        2  Segundo semestre                12\n",
      "2        1   Tercer semestre                 0\n",
      "3        2   Cuarto semestre                12\n",
      "4        1   Quinto semestre                18\n",
      "5        2    Sexto semestre                 3\n",
      "6        1  Séptimo semestre                18\n",
      "7        2   Octavo semestre                18\n",
      "8        1   Noveno semestre                19\n",
      "9        2   Primer semestre                18\n",
      "10       1  Segundo semestre                18\n",
      "11       2   Tercer semestre                12\n",
      "12       1   Cuarto semestre                19\n",
      "13       2   Quinto semestre                18\n",
      "14       1    Sexto semestre                11\n",
      "15       2  Séptimo semestre                 1\n",
      "16       1   Octavo semestre                12\n",
      "17       2   Noveno semestre                 1\n"
     ]
    }
   ],
   "source": [
    "import pandas as pd\n",
    "\n",
    "# Arreglo de predicciones\n",
    "#predicciones = [23, 10, 11, 10, 23, 3, 22, 23, 3, 22, 22, 10, 21, 21, 11, 1, 11, 1, 24, 16, 22, 6, 10, 11, 21, 22, 23, 21, 1, 16, 10, 16, 8, 26, 10, 23, 10, 3, 21, 10]\n",
    "predicciones = y_pred\n",
    "\n",
    "# Definir la longitud de las repeticiones necesarias\n",
    "longitud_reps = (len(predicciones) // 18) * 9\n",
    "\n",
    "# Ajustar el tamaño del arreglo de predicciones\n",
    "predicciones_ajustadas = predicciones[:longitud_reps]\n",
    "\n",
    "# Crear DataFrame de predicciones\n",
    "df_predicciones = pd.DataFrame({\n",
    "    'Periodo': ['1', '2'] * (longitud_reps // 2),\n",
    "    'Grado': ['Primer semestre', 'Segundo semestre', 'Tercer semestre', 'Cuarto semestre', 'Quinto semestre',\n",
    "              'Sexto semestre', 'Séptimo semestre', 'Octavo semestre', 'Noveno semestre'] * (longitud_reps // 9),\n",
    "    'Numero de grupos': predicciones_ajustadas\n",
    "})\n",
    "\n",
    "# Mostrar el DataFrame de predicciones\n",
    "print(df_predicciones)\n"
   ]
  },
  {
   "cell_type": "code",
   "execution_count": 59,
   "metadata": {},
   "outputs": [
    {
     "name": "stdout",
     "output_type": "stream",
     "text": [
      "           Semestre  Numero de grupos\n",
      "0   Primer semestre                23\n",
      "1  Segundo semestre                10\n",
      "2   Tercer semestre                11\n",
      "3   Cuarto semestre                10\n",
      "4   Quinto semestre                23\n",
      "5    Sexto semestre                 3\n",
      "6  Séptimo semestre                22\n",
      "7   Octavo semestre                23\n",
      "8   Noveno semestre                 3\n"
     ]
    }
   ],
   "source": [
    "\n",
    "#Mostrar resultados del siguiente periodo nada mas\n",
    "import pandas as pd\n",
    "\n",
    "# Arreglo de predicciones\n",
    "predicciones = [23, 10, 11, 10, 23, 3, 22, 23, 3, 22, 22, 10, 21, 21, 11, 1, 11, 1, 24, 16, 22, 6, 10, 11, 21, 22, 23, 21, 1, 16, 10, 16, 8, 26, 10, 23, 10, 3, 21, 10]\n",
    "\n",
    "# Obtener las predicciones para los nueve semestres del siguiente periodo\n",
    "predicciones_siguiente_periodo = predicciones[:9]\n",
    "\n",
    "# Crear DataFrame de predicciones para el siguiente periodo\n",
    "df_predicciones = pd.DataFrame({\n",
    "    'Semestre': ['Primer semestre', 'Segundo semestre', 'Tercer semestre', 'Cuarto semestre', 'Quinto semestre',\n",
    "                 'Sexto semestre', 'Séptimo semestre', 'Octavo semestre', 'Noveno semestre'],\n",
    "    'Numero de grupos': predicciones_siguiente_periodo\n",
    "})\n",
    "\n",
    "# Mostrar el DataFrame de predicciones para el siguiente periodo\n",
    "print(df_predicciones)\n"
   ]
  },
  {
   "cell_type": "code",
   "execution_count": 16,
   "metadata": {},
   "outputs": [
    {
     "name": "stdout",
     "output_type": "stream",
     "text": [
      "           Semestre  Real  Prediccion  Diferencia\n",
      "0   Primer semestre     3          23         -20\n",
      "1  Segundo semestre    23          10          13\n",
      "2   Tercer semestre    20          11           9\n",
      "3   Cuarto semestre    18          10           8\n",
      "4   Quinto semestre    14          23          -9\n",
      "5    Sexto semestre    18           3          15\n",
      "6  Séptimo semestre    17          22          -5\n",
      "7   Octavo semestre    14          23          -9\n",
      "8   Noveno semestre    10           3           7\n"
     ]
    }
   ],
   "source": [
    "#Realizar comparaciones\n",
    "import pandas as pd\n",
    "\n",
    "# Datos reales correspondientes al número de grupos para los nueve semestres del siguiente periodo\n",
    "datos_reales = [3,23,20,18,14,18,17,14,10]\n",
    "\n",
    "# Predicciones generadas por el modelo\n",
    "predicciones = [23, 10, 11, 10, 23, 3, 22, 23, 3]\n",
    "\n",
    "# Crear DataFrame de comparación\n",
    "df_comparacion = pd.DataFrame({\n",
    "    'Semestre': ['Primer semestre', 'Segundo semestre', 'Tercer semestre', 'Cuarto semestre', 'Quinto semestre',\n",
    "                 'Sexto semestre', 'Séptimo semestre', 'Octavo semestre', 'Noveno semestre'],\n",
    "    'Real': datos_reales,\n",
    "    'Prediccion': predicciones\n",
    "})\n",
    "\n",
    "# Calcular la diferencia entre los valores reales y las predicciones\n",
    "df_comparacion['Diferencia'] = df_comparacion['Real'] - df_comparacion['Prediccion']\n",
    "\n",
    "# Mostrar el DataFrame de comparación\n",
    "print(df_comparacion)\n"
   ]
  }
 ],
 "metadata": {
  "kernelspec": {
   "display_name": "Python 3",
   "language": "python",
   "name": "python3"
  },
  "language_info": {
   "codemirror_mode": {
    "name": "ipython",
    "version": 3
   },
   "file_extension": ".py",
   "mimetype": "text/x-python",
   "name": "python",
   "nbconvert_exporter": "python",
   "pygments_lexer": "ipython3",
   "version": "3.11.2"
  },
  "orig_nbformat": 4
 },
 "nbformat": 4,
 "nbformat_minor": 2
}
