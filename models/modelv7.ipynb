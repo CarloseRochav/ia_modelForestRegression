{
 "cells": [
  {
   "cell_type": "code",
   "execution_count": 1,
   "metadata": {},
   "outputs": [
    {
     "name": "stderr",
     "output_type": "stream",
     "text": [
      "c:\\Users\\ernes\\AppData\\Local\\Programs\\Python\\Python311\\Lib\\site-packages\\tqdm\\auto.py:21: TqdmWarning: IProgress not found. Please update jupyter and ipywidgets. See https://ipywidgets.readthedocs.io/en/stable/user_install.html\n",
      "  from .autonotebook import tqdm as notebook_tqdm\n"
     ]
    }
   ],
   "source": [
    "#Librerias para trabajar con la red Bayesiana\n",
    "import pandas as pd\n",
    "from pgmpy.models import BayesianModel\n",
    "from pgmpy.estimators import MaximumLikelihoodEstimator\n",
    "\n"
   ]
  },
  {
   "cell_type": "code",
   "execution_count": 2,
   "metadata": {},
   "outputs": [
    {
     "name": "stdout",
     "output_type": "stream",
     "text": [
      "   anio  periodo  grado  numero de grupos\n",
      "0  2012        2      1                 0\n",
      "1  2012        2      2                15\n",
      "2  2012        2      3                18\n",
      "3  2012        2      4                12\n",
      "4  2012        2      5                18\n"
     ]
    }
   ],
   "source": [
    "# Cargar los datos desde el archivo CSV\n",
    "ArchivoCSV = \"../tabla_gruposNew.csv\"\n",
    "#ArchivoCSV = \"../tabla_gruposNewNoSeason.csv\"\n",
    "datos = pd.read_csv(ArchivoCSV)\n",
    "\n",
    "# Visualizar los datos cargados\n",
    "print(datos.head())\n"
   ]
  },
  {
   "cell_type": "code",
   "execution_count": 3,
   "metadata": {},
   "outputs": [
    {
     "name": "stderr",
     "output_type": "stream",
     "text": [
      "c:\\Users\\ernes\\AppData\\Local\\Programs\\Python\\Python311\\Lib\\site-packages\\pgmpy\\models\\BayesianModel.py:8: FutureWarning: BayesianModel has been renamed to BayesianNetwork. Please use BayesianNetwork class, BayesianModel will be removed in future.\n",
      "  warnings.warn(\n"
     ]
    }
   ],
   "source": [
    "# Crear el modelo de red bayesiana\n",
    "modelo_bayesiano = BayesianModel()\n",
    "\n",
    "# Definir las relaciones entre las variables (aristas de la red bayesiana)\n",
    "#modelo_bayesiano.add_edge('anio', 'grado')\n",
    "#modelo_bayesiano.add_edge('periodo', 'grado')\n",
    "\n",
    "modelo_bayesiano.add_edge('anio', 'grado')\n",
    "modelo_bayesiano.add_edge('periodo', 'grado')\n"
   ]
  },
  {
   "cell_type": "code",
   "execution_count": 4,
   "metadata": {},
   "outputs": [],
   "source": [
    "# Entrenar el modelo usando MaximumLikelihoodEstimator\n",
    "entrenador = MaximumLikelihoodEstimator(modelo_bayesiano, datos)\n"
   ]
  },
  {
   "cell_type": "code",
   "execution_count": 5,
   "metadata": {},
   "outputs": [],
   "source": [
    "# Estimar las probabilidades basadas en los datos\n",
    "cpd_anio = entrenador.estimate_cpd('anio')\n",
    "cpd_periodo = entrenador.estimate_cpd('periodo')\n",
    "cpd_grado = entrenador.estimate_cpd('grado')"
   ]
  },
  {
   "cell_type": "code",
   "execution_count": 6,
   "metadata": {},
   "outputs": [],
   "source": [
    "# Agregar CPD a la red bayesiana\n",
    "modelo_bayesiano.add_cpds(cpd_anio, cpd_periodo, cpd_grado)\n",
    "#modelo_bayesiano.add_cpds(cpd_anio, cpd_grado)\n",
    "\n",
    "# Realizar la inferencia para una predicción específica\n",
    "from pgmpy.inference import VariableElimination\n",
    "\n",
    "# Crear un objeto de inferencia basado en eliminación de variables\n",
    "inference = VariableElimination(modelo_bayesiano)\n",
    "\n"
   ]
  },
  {
   "cell_type": "code",
   "execution_count": 7,
   "metadata": {},
   "outputs": [],
   "source": [
    "# Realizar una predicción para el número de grupos en un año y período específico\n",
    "# Por ejemplo, predecir el número de grupos para el año 2023 y período 1\n",
    "# resultado = inference.map_query(variables=['grado'], evidence={'anio': 2023, 'periodo': 1})\n",
    "# print(\"Número de grupos predicho:\", resultado['grado'])\n",
    "\n",
    "#Sintaxis prediccion ONE"
   ]
  },
  {
   "cell_type": "code",
   "execution_count": 8,
   "metadata": {},
   "outputs": [],
   "source": [
    "# Obtener todas las combinaciones únicas de año y período presentes en los datos\n",
    "# combinaciones = datos[['anio', 'periodo']].drop_duplicates()\n",
    "\n",
    "# # Realizar la predicción para cada combinación de año y período\n",
    "# for idx, row in combinaciones.iterrows():\n",
    "#     resultado = inference.map_query(variables=['grado'], evidence={'anio': row['anio'], 'periodo': row['periodo']})\n",
    "#     print(f\"Año: {row['anio']}, Período: {row['periodo']}, Número de grupos predicho: {resultado['grado']}\")\n",
    "\n",
    "\n",
    "#Sintaxis Predicion TWO"
   ]
  },
  {
   "cell_type": "code",
   "execution_count": 9,
   "metadata": {},
   "outputs": [],
   "source": [
    "# Obtener todas las combinaciones únicas de año y período presentes en los datos\n",
    "#combinaciones = datos[['anio', 'periodo']].drop_duplicates()"
   ]
  },
  {
   "cell_type": "code",
   "execution_count": 7,
   "metadata": {},
   "outputs": [],
   "source": [
    "# Realizar la inferencia para obtener las predicciones\n",
    "inference = VariableElimination(modelo_bayesiano)\n"
   ]
  },
  {
   "cell_type": "code",
   "execution_count": 8,
   "metadata": {},
   "outputs": [],
   "source": [
    "# Realizar la predicción para cada registro en el DataFrame de datos\n",
    "predicciones = []\n",
    "for idx, row in datos.iterrows():\n",
    "    if pd.isnull(row['grado']):\n",
    "        resultado = inference.map_query(variables=['grado'], evidence={'anio': row['anio'], 'periodo': row['periodo']})\n",
    "        predicciones.append((row['anio'], row['periodo'], resultado['grado']))\n",
    "\n"
   ]
  },
  {
   "cell_type": "code",
   "execution_count": 9,
   "metadata": {},
   "outputs": [],
   "source": [
    "# Mostrar las predicciones\n",
    "for pred in predicciones:\n",
    "    print(f\"Año: {pred[0]}, Período: {pred[1]}, Número de grupos predicho: {pred[2]}\")"
   ]
  },
  {
   "cell_type": "code",
   "execution_count": 10,
   "metadata": {},
   "outputs": [
    {
     "data": {
      "text/plain": [
       "[]"
      ]
     },
     "execution_count": 10,
     "metadata": {},
     "output_type": "execute_result"
    }
   ],
   "source": [
    "predicciones"
   ]
  }
 ],
 "metadata": {
  "kernelspec": {
   "display_name": "Python 3",
   "language": "python",
   "name": "python3"
  },
  "language_info": {
   "codemirror_mode": {
    "name": "ipython",
    "version": 3
   },
   "file_extension": ".py",
   "mimetype": "text/x-python",
   "name": "python",
   "nbconvert_exporter": "python",
   "pygments_lexer": "ipython3",
   "version": "3.11.2"
  },
  "orig_nbformat": 4
 },
 "nbformat": 4,
 "nbformat_minor": 2
}
