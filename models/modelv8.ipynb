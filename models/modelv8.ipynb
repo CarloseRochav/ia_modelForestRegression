{
 "cells": [
  {
   "cell_type": "code",
   "execution_count": 114,
   "metadata": {},
   "outputs": [],
   "source": [
    "#Librerias para trabajar con la red Bayesiana\n",
    "import pandas as pd\n",
    "from pgmpy.models import BayesianModel\n",
    "from pgmpy.estimators import MaximumLikelihoodEstimator\n",
    "from pgmpy.inference import VariableElimination"
   ]
  },
  {
   "cell_type": "code",
   "execution_count": 115,
   "metadata": {},
   "outputs": [
    {
     "name": "stdout",
     "output_type": "stream",
     "text": [
      "   semestre  grupos_1  grupos_2  grupos_3  grupos_4  grupos_5  grupos_6  \\\n",
      "0         1       0.0         2         3         1         4         2   \n",
      "1         2      15.0        24        19        19        19        32   \n",
      "2         3      18.0        19        22        18        18        18   \n",
      "3         4      12.0        13        17        18        18        18   \n",
      "4         5      18.0        14        12        12        12        17   \n",
      "\n",
      "   grupos_7  grupos_8  grupos_9  ...  grupos_13  grupos_14  grupos_15  \\\n",
      "0         2         1         2  ...          3          4          3   \n",
      "1        14        26        22  ...         20         22         21   \n",
      "2        24        14        13  ...         21         18         19   \n",
      "3        17        23        22  ...         16         18         18   \n",
      "4        18        16        18  ...         18         12         17   \n",
      "\n",
      "   grupos_16  grupos_17  grupos_18  grupos_19  grupos_20  grupos_21  grupos_22  \n",
      "0          4          3          3          3          6          3          3  \n",
      "1         22         24         30         23         26         21         23  \n",
      "2         18         20         19         24         23         24         20  \n",
      "3         18         19         20         18         24         18         18  \n",
      "4         12         18         18         18         18         17         14  \n",
      "\n",
      "[5 rows x 23 columns]\n"
     ]
    }
   ],
   "source": [
    "# Cargar los datos desde el archivo CSV\n",
    "ArchivoCSV = \"../tablaOriginalVersion2.csv\"\n",
    "#ArchivoCSV = \"../tabla_gruposNewNoSeason.csv\"\n",
    "data = pd.read_csv(ArchivoCSV)\n",
    "\n",
    "# Visualizar los datos cargados\n",
    "print(data.head())"
   ]
  },
  {
   "cell_type": "code",
   "execution_count": 43,
   "metadata": {},
   "outputs": [
    {
     "data": {
      "text/html": [
       "<div>\n",
       "<style scoped>\n",
       "    .dataframe tbody tr th:only-of-type {\n",
       "        vertical-align: middle;\n",
       "    }\n",
       "\n",
       "    .dataframe tbody tr th {\n",
       "        vertical-align: top;\n",
       "    }\n",
       "\n",
       "    .dataframe thead th {\n",
       "        text-align: right;\n",
       "    }\n",
       "</style>\n",
       "<table border=\"1\" class=\"dataframe\">\n",
       "  <thead>\n",
       "    <tr style=\"text-align: right;\">\n",
       "      <th></th>\n",
       "      <th>semestre</th>\n",
       "      <th>grupos_1</th>\n",
       "      <th>grupos_2</th>\n",
       "      <th>grupos_3</th>\n",
       "      <th>grupos_4</th>\n",
       "      <th>grupos_5</th>\n",
       "      <th>grupos_6</th>\n",
       "      <th>grupos_7</th>\n",
       "      <th>grupos_8</th>\n",
       "      <th>grupos_9</th>\n",
       "      <th>...</th>\n",
       "      <th>grupos_13</th>\n",
       "      <th>grupos_14</th>\n",
       "      <th>grupos_15</th>\n",
       "      <th>grupos_16</th>\n",
       "      <th>grupos_17</th>\n",
       "      <th>grupos_18</th>\n",
       "      <th>grupos_19</th>\n",
       "      <th>grupos_20</th>\n",
       "      <th>grupos_21</th>\n",
       "      <th>grupos_22</th>\n",
       "    </tr>\n",
       "  </thead>\n",
       "  <tbody>\n",
       "    <tr>\n",
       "      <th>0</th>\n",
       "      <td>1</td>\n",
       "      <td>0.0</td>\n",
       "      <td>2</td>\n",
       "      <td>3</td>\n",
       "      <td>1</td>\n",
       "      <td>4</td>\n",
       "      <td>2</td>\n",
       "      <td>2</td>\n",
       "      <td>1</td>\n",
       "      <td>2</td>\n",
       "      <td>...</td>\n",
       "      <td>3</td>\n",
       "      <td>4</td>\n",
       "      <td>3</td>\n",
       "      <td>4</td>\n",
       "      <td>3</td>\n",
       "      <td>3</td>\n",
       "      <td>3</td>\n",
       "      <td>6</td>\n",
       "      <td>3</td>\n",
       "      <td>3</td>\n",
       "    </tr>\n",
       "    <tr>\n",
       "      <th>1</th>\n",
       "      <td>2</td>\n",
       "      <td>15.0</td>\n",
       "      <td>24</td>\n",
       "      <td>19</td>\n",
       "      <td>19</td>\n",
       "      <td>19</td>\n",
       "      <td>32</td>\n",
       "      <td>14</td>\n",
       "      <td>26</td>\n",
       "      <td>22</td>\n",
       "      <td>...</td>\n",
       "      <td>20</td>\n",
       "      <td>22</td>\n",
       "      <td>21</td>\n",
       "      <td>22</td>\n",
       "      <td>24</td>\n",
       "      <td>30</td>\n",
       "      <td>23</td>\n",
       "      <td>26</td>\n",
       "      <td>21</td>\n",
       "      <td>23</td>\n",
       "    </tr>\n",
       "    <tr>\n",
       "      <th>2</th>\n",
       "      <td>3</td>\n",
       "      <td>18.0</td>\n",
       "      <td>19</td>\n",
       "      <td>22</td>\n",
       "      <td>18</td>\n",
       "      <td>18</td>\n",
       "      <td>18</td>\n",
       "      <td>24</td>\n",
       "      <td>14</td>\n",
       "      <td>13</td>\n",
       "      <td>...</td>\n",
       "      <td>21</td>\n",
       "      <td>18</td>\n",
       "      <td>19</td>\n",
       "      <td>18</td>\n",
       "      <td>20</td>\n",
       "      <td>19</td>\n",
       "      <td>24</td>\n",
       "      <td>23</td>\n",
       "      <td>24</td>\n",
       "      <td>20</td>\n",
       "    </tr>\n",
       "    <tr>\n",
       "      <th>3</th>\n",
       "      <td>4</td>\n",
       "      <td>12.0</td>\n",
       "      <td>13</td>\n",
       "      <td>17</td>\n",
       "      <td>18</td>\n",
       "      <td>18</td>\n",
       "      <td>18</td>\n",
       "      <td>17</td>\n",
       "      <td>23</td>\n",
       "      <td>22</td>\n",
       "      <td>...</td>\n",
       "      <td>16</td>\n",
       "      <td>18</td>\n",
       "      <td>18</td>\n",
       "      <td>18</td>\n",
       "      <td>19</td>\n",
       "      <td>20</td>\n",
       "      <td>18</td>\n",
       "      <td>24</td>\n",
       "      <td>18</td>\n",
       "      <td>18</td>\n",
       "    </tr>\n",
       "    <tr>\n",
       "      <th>4</th>\n",
       "      <td>5</td>\n",
       "      <td>18.0</td>\n",
       "      <td>14</td>\n",
       "      <td>12</td>\n",
       "      <td>12</td>\n",
       "      <td>12</td>\n",
       "      <td>17</td>\n",
       "      <td>18</td>\n",
       "      <td>16</td>\n",
       "      <td>18</td>\n",
       "      <td>...</td>\n",
       "      <td>18</td>\n",
       "      <td>12</td>\n",
       "      <td>17</td>\n",
       "      <td>12</td>\n",
       "      <td>18</td>\n",
       "      <td>18</td>\n",
       "      <td>18</td>\n",
       "      <td>18</td>\n",
       "      <td>17</td>\n",
       "      <td>14</td>\n",
       "    </tr>\n",
       "  </tbody>\n",
       "</table>\n",
       "<p>5 rows × 23 columns</p>\n",
       "</div>"
      ],
      "text/plain": [
       "   semestre  grupos_1  grupos_2  grupos_3  grupos_4  grupos_5  grupos_6  \\\n",
       "0         1       0.0         2         3         1         4         2   \n",
       "1         2      15.0        24        19        19        19        32   \n",
       "2         3      18.0        19        22        18        18        18   \n",
       "3         4      12.0        13        17        18        18        18   \n",
       "4         5      18.0        14        12        12        12        17   \n",
       "\n",
       "   grupos_7  grupos_8  grupos_9  ...  grupos_13  grupos_14  grupos_15  \\\n",
       "0         2         1         2  ...          3          4          3   \n",
       "1        14        26        22  ...         20         22         21   \n",
       "2        24        14        13  ...         21         18         19   \n",
       "3        17        23        22  ...         16         18         18   \n",
       "4        18        16        18  ...         18         12         17   \n",
       "\n",
       "   grupos_16  grupos_17  grupos_18  grupos_19  grupos_20  grupos_21  grupos_22  \n",
       "0          4          3          3          3          6          3          3  \n",
       "1         22         24         30         23         26         21         23  \n",
       "2         18         20         19         24         23         24         20  \n",
       "3         18         19         20         18         24         18         18  \n",
       "4         12         18         18         18         18         17         14  \n",
       "\n",
       "[5 rows x 23 columns]"
      ]
     },
     "execution_count": 43,
     "metadata": {},
     "output_type": "execute_result"
    }
   ],
   "source": [
    "data.head()"
   ]
  },
  {
   "cell_type": "code",
   "execution_count": 116,
   "metadata": {},
   "outputs": [
    {
     "name": "stderr",
     "output_type": "stream",
     "text": [
      "c:\\Users\\ernes\\AppData\\Local\\Programs\\Python\\Python311\\Lib\\site-packages\\pgmpy\\models\\BayesianModel.py:8: FutureWarning: BayesianModel has been renamed to BayesianNetwork. Please use BayesianNetwork class, BayesianModel will be removed in future.\n",
      "  warnings.warn(\n"
     ]
    }
   ],
   "source": [
    "# Crear el modelo de red bayesiana\n",
    "modelo_bayesiano = BayesianModel()\n"
   ]
  },
  {
   "cell_type": "code",
   "execution_count": 117,
   "metadata": {},
   "outputs": [],
   "source": [
    "# Crear los nodos del modelo\n",
    "for i in range(1, 11):\n",
    "    modelo_bayesiano.add_node(f'grupos_{i}')\n",
    "\n",
    "# Definir las relaciones entre las variables (aristas de la red bayesiana)\n",
    "for i in range(1, 10):\n",
    "    modelo_bayesiano.add_edge(f'grupos_{i}', f'grupos_{i+1}')"
   ]
  },
  {
   "cell_type": "code",
   "execution_count": 118,
   "metadata": {},
   "outputs": [],
   "source": [
    "# Agregar el nodo 'grupos_10_prediccion' al modelo\n",
    "modelo_bayesiano.add_node('grupos_10_prediccion')"
   ]
  },
  {
   "cell_type": "code",
   "execution_count": 119,
   "metadata": {},
   "outputs": [
    {
     "ename": "ValueError",
     "evalue": "variable names of the model must be identical to column names in data",
     "output_type": "error",
     "traceback": [
      "\u001b[1;31m---------------------------------------------------------------------------\u001b[0m",
      "\u001b[1;31mValueError\u001b[0m                                Traceback (most recent call last)",
      "Cell \u001b[1;32mIn[119], line 2\u001b[0m\n\u001b[0;32m      1\u001b[0m \u001b[39m# Entrenar el modelo usando MaximumLikelihoodEstimator\u001b[39;00m\n\u001b[1;32m----> 2\u001b[0m entrenador \u001b[39m=\u001b[39m MaximumLikelihoodEstimator(modelo_bayesiano, data)\n",
      "File \u001b[1;32mc:\\Users\\ernes\\AppData\\Local\\Programs\\Python\\Python311\\Lib\\site-packages\\pgmpy\\estimators\\MLE.py:57\u001b[0m, in \u001b[0;36mMaximumLikelihoodEstimator.__init__\u001b[1;34m(self, model, data, **kwargs)\u001b[0m\n\u001b[0;32m     52\u001b[0m \u001b[39melif\u001b[39;00m \u001b[39mset\u001b[39m(model\u001b[39m.\u001b[39mnodes()) \u001b[39m>\u001b[39m \u001b[39mset\u001b[39m(data\u001b[39m.\u001b[39mcolumns):\n\u001b[0;32m     53\u001b[0m     \u001b[39mraise\u001b[39;00m \u001b[39mValueError\u001b[39;00m(\n\u001b[0;32m     54\u001b[0m         \u001b[39mf\u001b[39m\u001b[39m\"\u001b[39m\u001b[39mMaximum Likelihood Estimator works only for models with all observed variables. Found latent variables: \u001b[39m\u001b[39m{\u001b[39;00mmodel\u001b[39m.\u001b[39mlatents\u001b[39m}\u001b[39;00m\u001b[39m.\u001b[39m\u001b[39m\"\u001b[39m\n\u001b[0;32m     55\u001b[0m     )\n\u001b[1;32m---> 57\u001b[0m \u001b[39msuper\u001b[39;49m(MaximumLikelihoodEstimator, \u001b[39mself\u001b[39;49m)\u001b[39m.\u001b[39;49m\u001b[39m__init__\u001b[39;49m(model, data, \u001b[39m*\u001b[39;49m\u001b[39m*\u001b[39;49mkwargs)\n",
      "File \u001b[1;32mc:\\Users\\ernes\\AppData\\Local\\Programs\\Python\\Python311\\Lib\\site-packages\\pgmpy\\estimators\\base.py:222\u001b[0m, in \u001b[0;36mParameterEstimator.__init__\u001b[1;34m(self, model, data, **kwargs)\u001b[0m\n\u001b[0;32m    196\u001b[0m \u001b[39m\u001b[39m\u001b[39m\"\"\"\u001b[39;00m\n\u001b[0;32m    197\u001b[0m \u001b[39mBase class for parameter estimators in pgmpy.\u001b[39;00m\n\u001b[0;32m    198\u001b[0m \n\u001b[1;32m   (...)\u001b[0m\n\u001b[0;32m    218\u001b[0m \u001b[39m    This sets the behavior of the `state_count`-method.\u001b[39;00m\n\u001b[0;32m    219\u001b[0m \u001b[39m\"\"\"\u001b[39;00m\n\u001b[0;32m    221\u001b[0m \u001b[39mif\u001b[39;00m \u001b[39mnot\u001b[39;00m (\u001b[39mset\u001b[39m(model\u001b[39m.\u001b[39mnodes()) \u001b[39m-\u001b[39m model\u001b[39m.\u001b[39mlatents) \u001b[39m<\u001b[39m\u001b[39m=\u001b[39m \u001b[39mset\u001b[39m(data\u001b[39m.\u001b[39mcolumns\u001b[39m.\u001b[39mvalues):\n\u001b[1;32m--> 222\u001b[0m     \u001b[39mraise\u001b[39;00m \u001b[39mValueError\u001b[39;00m(\n\u001b[0;32m    223\u001b[0m         \u001b[39m\"\u001b[39m\u001b[39mvariable names of the model must be identical to column names in data\u001b[39m\u001b[39m\"\u001b[39m\n\u001b[0;32m    224\u001b[0m     )\n\u001b[0;32m    225\u001b[0m \u001b[39mself\u001b[39m\u001b[39m.\u001b[39mmodel \u001b[39m=\u001b[39m model\n\u001b[0;32m    227\u001b[0m \u001b[39msuper\u001b[39m(ParameterEstimator, \u001b[39mself\u001b[39m)\u001b[39m.\u001b[39m\u001b[39m__init__\u001b[39m(data, \u001b[39m*\u001b[39m\u001b[39m*\u001b[39mkwargs)\n",
      "\u001b[1;31mValueError\u001b[0m: variable names of the model must be identical to column names in data"
     ]
    }
   ],
   "source": [
    "# Entrenar el modelo usando MaximumLikelihoodEstimator\n",
    "entrenador = MaximumLikelihoodEstimator(modelo_bayesiano, data)\n"
   ]
  },
  {
   "cell_type": "code",
   "execution_count": 107,
   "metadata": {},
   "outputs": [
    {
     "name": "stdout",
     "output_type": "stream",
     "text": [
      "['grupos_1', 'grupos_2', 'grupos_3', 'grupos_4', 'grupos_5', 'grupos_6', 'grupos_7', 'grupos_8', 'grupos_9', 'grupos_10']\n"
     ]
    }
   ],
   "source": [
    "#Imprimir cantidad de nodos en el modelo\n",
    "print(modelo_bayesiano.nodes())\n"
   ]
  },
  {
   "cell_type": "code",
   "execution_count": 108,
   "metadata": {},
   "outputs": [],
   "source": [
    "# Estimar las probabilidades basadas en los datos\n",
    "cpds = {}\n",
    "for i in range(1, 11):\n",
    "    cpds[f'grupos_{i}'] = entrenador.estimate_cpd(f'grupos_{i}')\n",
    "\n",
    "# Agregar CPDs a la red bayesiana\n",
    "for i in range(1, 11):\n",
    "    modelo_bayesiano.add_cpds(cpds[f'grupos_{i}'])"
   ]
  },
  {
   "cell_type": "code",
   "execution_count": 109,
   "metadata": {},
   "outputs": [],
   "source": [
    "# Realizar la inferencia para obtener las predicciones\n",
    "inference = VariableElimination(modelo_bayesiano)"
   ]
  },
  {
   "cell_type": "code",
   "execution_count": 110,
   "metadata": {},
   "outputs": [
    {
     "ename": "NetworkXError",
     "evalue": "The node grupos_10_prediccion is not in the digraph.",
     "output_type": "error",
     "traceback": [
      "\u001b[1;31m---------------------------------------------------------------------------\u001b[0m",
      "\u001b[1;31mKeyError\u001b[0m                                  Traceback (most recent call last)",
      "File \u001b[1;32mc:\\Users\\ernes\\AppData\\Local\\Programs\\Python\\Python311\\Lib\\site-packages\\networkx\\classes\\digraph.py:927\u001b[0m, in \u001b[0;36mDiGraph.predecessors\u001b[1;34m(self, n)\u001b[0m\n\u001b[0;32m    926\u001b[0m \u001b[39mtry\u001b[39;00m:\n\u001b[1;32m--> 927\u001b[0m     \u001b[39mreturn\u001b[39;00m \u001b[39miter\u001b[39m(\u001b[39mself\u001b[39;49m\u001b[39m.\u001b[39;49m_pred[n])\n\u001b[0;32m    928\u001b[0m \u001b[39mexcept\u001b[39;00m \u001b[39mKeyError\u001b[39;00m \u001b[39mas\u001b[39;00m err:\n",
      "\u001b[1;31mKeyError\u001b[0m: 'grupos_10_prediccion'",
      "\nThe above exception was the direct cause of the following exception:\n",
      "\u001b[1;31mNetworkXError\u001b[0m                             Traceback (most recent call last)",
      "Cell \u001b[1;32mIn[110], line 8\u001b[0m\n\u001b[0;32m      6\u001b[0m     grupo \u001b[39m=\u001b[39m data\u001b[39m.\u001b[39mloc[data[\u001b[39m'\u001b[39m\u001b[39msemestre\u001b[39m\u001b[39m'\u001b[39m] \u001b[39m==\u001b[39m semestre, \u001b[39mf\u001b[39m\u001b[39m'\u001b[39m\u001b[39mgrupos_\u001b[39m\u001b[39m{\u001b[39;00mi\u001b[39m}\u001b[39;00m\u001b[39m'\u001b[39m]\u001b[39m.\u001b[39mvalues\u001b[39m.\u001b[39mastype(\u001b[39mint\u001b[39m)[\u001b[39m0\u001b[39m]\n\u001b[0;32m      7\u001b[0m     evidencia[\u001b[39mf\u001b[39m\u001b[39m'\u001b[39m\u001b[39mgrupos_\u001b[39m\u001b[39m{\u001b[39;00mi\u001b[39m}\u001b[39;00m\u001b[39m'\u001b[39m] \u001b[39m=\u001b[39m grupo\n\u001b[1;32m----> 8\u001b[0m resultado \u001b[39m=\u001b[39m inference\u001b[39m.\u001b[39;49mmap_query(variables\u001b[39m=\u001b[39;49m[\u001b[39m'\u001b[39;49m\u001b[39mgrupos_10_prediccion\u001b[39;49m\u001b[39m'\u001b[39;49m], evidence\u001b[39m=\u001b[39;49mevidencia)  \u001b[39m# Cambiamos el nombre de 'grupos_10' a 'grupos_10_prediccion'\u001b[39;00m\n\u001b[0;32m      9\u001b[0m predicciones\u001b[39m.\u001b[39mappend((semestre, resultado[\u001b[39m'\u001b[39m\u001b[39mgrupos_10_prediccion\u001b[39m\u001b[39m'\u001b[39m][\u001b[39m0\u001b[39m]))  \u001b[39m# Tomamos el valor escalar de la predicción\u001b[39;00m\n",
      "File \u001b[1;32mc:\\Users\\ernes\\AppData\\Local\\Programs\\Python\\Python311\\Lib\\site-packages\\pgmpy\\inference\\ExactInference.py:551\u001b[0m, in \u001b[0;36mVariableElimination.map_query\u001b[1;34m(self, variables, evidence, virtual_evidence, elimination_order, show_progress)\u001b[0m\n\u001b[0;32m    542\u001b[0m     \u001b[39mreturn\u001b[39;00m \u001b[39mself\u001b[39m\u001b[39m.\u001b[39mmap_query(\n\u001b[0;32m    543\u001b[0m         variables\u001b[39m=\u001b[39mvariables,\n\u001b[0;32m    544\u001b[0m         evidence\u001b[39m=\u001b[39m{\u001b[39m*\u001b[39m\u001b[39m*\u001b[39mevidence, \u001b[39m*\u001b[39m\u001b[39m*\u001b[39mvirt_evidence},\n\u001b[1;32m   (...)\u001b[0m\n\u001b[0;32m    547\u001b[0m         show_progress\u001b[39m=\u001b[39mshow_progress,\n\u001b[0;32m    548\u001b[0m     )\n\u001b[0;32m    550\u001b[0m \u001b[39mif\u001b[39;00m \u001b[39misinstance\u001b[39m(\u001b[39mself\u001b[39m\u001b[39m.\u001b[39mmodel, BayesianNetwork):\n\u001b[1;32m--> 551\u001b[0m     model_reduced, evidence \u001b[39m=\u001b[39m \u001b[39mself\u001b[39;49m\u001b[39m.\u001b[39;49m_prune_bayesian_model(variables, evidence)\n\u001b[0;32m    552\u001b[0m \u001b[39melse\u001b[39;00m:\n\u001b[0;32m    553\u001b[0m     model_reduced \u001b[39m=\u001b[39m \u001b[39mself\u001b[39m\u001b[39m.\u001b[39mmodel\n",
      "File \u001b[1;32mc:\\Users\\ernes\\AppData\\Local\\Programs\\Python\\Python311\\Lib\\site-packages\\pgmpy\\inference\\base.py:152\u001b[0m, in \u001b[0;36mInference._prune_bayesian_model\u001b[1;34m(self, variables, evidence)\u001b[0m\n\u001b[0;32m    148\u001b[0m variables \u001b[39m=\u001b[39m \u001b[39mlist\u001b[39m(\u001b[39mself\u001b[39m\u001b[39m.\u001b[39mmodel\u001b[39m.\u001b[39mnodes()) \u001b[39mif\u001b[39;00m \u001b[39mlen\u001b[39m(variables) \u001b[39m==\u001b[39m \u001b[39m0\u001b[39m \u001b[39melse\u001b[39;00m \u001b[39mlist\u001b[39m(variables)\n\u001b[0;32m    150\u001b[0m \u001b[39m# Step 1: Remove all the variables that are d-separated from `variables` when conditioned\u001b[39;00m\n\u001b[0;32m    151\u001b[0m \u001b[39m#         on `evidence`\u001b[39;00m\n\u001b[1;32m--> 152\u001b[0m d_connected \u001b[39m=\u001b[39m \u001b[39mself\u001b[39;49m\u001b[39m.\u001b[39;49mmodel\u001b[39m.\u001b[39;49mactive_trail_nodes(\n\u001b[0;32m    153\u001b[0m     variables\u001b[39m=\u001b[39;49mvariables, observed\u001b[39m=\u001b[39;49m\u001b[39mlist\u001b[39;49m(evidence\u001b[39m.\u001b[39;49mkeys()), include_latents\u001b[39m=\u001b[39;49m\u001b[39mTrue\u001b[39;49;00m\n\u001b[0;32m    154\u001b[0m )\n\u001b[0;32m    155\u001b[0m d_connected \u001b[39m=\u001b[39m \u001b[39mset\u001b[39m\u001b[39m.\u001b[39munion(\u001b[39m*\u001b[39md_connected\u001b[39m.\u001b[39mvalues())\u001b[39m.\u001b[39munion(evidence\u001b[39m.\u001b[39mkeys())\n\u001b[0;32m    156\u001b[0m bn \u001b[39m=\u001b[39m \u001b[39mself\u001b[39m\u001b[39m.\u001b[39mmodel\u001b[39m.\u001b[39msubgraph(d_connected)\n",
      "File \u001b[1;32mc:\\Users\\ernes\\AppData\\Local\\Programs\\Python\\Python311\\Lib\\site-packages\\pgmpy\\base\\DAG.py:738\u001b[0m, in \u001b[0;36mDAG.active_trail_nodes\u001b[1;34m(self, variables, observed, include_latents)\u001b[0m\n\u001b[0;32m    736\u001b[0m traversed_list\u001b[39m.\u001b[39madd((node, direction))\n\u001b[0;32m    737\u001b[0m \u001b[39mif\u001b[39;00m direction \u001b[39m==\u001b[39m \u001b[39m\"\u001b[39m\u001b[39mup\u001b[39m\u001b[39m\"\u001b[39m \u001b[39mand\u001b[39;00m node \u001b[39mnot\u001b[39;00m \u001b[39min\u001b[39;00m observed_list:\n\u001b[1;32m--> 738\u001b[0m     \u001b[39mfor\u001b[39;00m parent \u001b[39min\u001b[39;00m \u001b[39mself\u001b[39;49m\u001b[39m.\u001b[39;49mpredecessors(node):\n\u001b[0;32m    739\u001b[0m         visit_list\u001b[39m.\u001b[39madd((parent, \u001b[39m\"\u001b[39m\u001b[39mup\u001b[39m\u001b[39m\"\u001b[39m))\n\u001b[0;32m    740\u001b[0m     \u001b[39mfor\u001b[39;00m child \u001b[39min\u001b[39;00m \u001b[39mself\u001b[39m\u001b[39m.\u001b[39msuccessors(node):\n",
      "File \u001b[1;32mc:\\Users\\ernes\\AppData\\Local\\Programs\\Python\\Python311\\Lib\\site-packages\\networkx\\classes\\digraph.py:929\u001b[0m, in \u001b[0;36mDiGraph.predecessors\u001b[1;34m(self, n)\u001b[0m\n\u001b[0;32m    927\u001b[0m     \u001b[39mreturn\u001b[39;00m \u001b[39miter\u001b[39m(\u001b[39mself\u001b[39m\u001b[39m.\u001b[39m_pred[n])\n\u001b[0;32m    928\u001b[0m \u001b[39mexcept\u001b[39;00m \u001b[39mKeyError\u001b[39;00m \u001b[39mas\u001b[39;00m err:\n\u001b[1;32m--> 929\u001b[0m     \u001b[39mraise\u001b[39;00m NetworkXError(\u001b[39mf\u001b[39m\u001b[39m\"\u001b[39m\u001b[39mThe node \u001b[39m\u001b[39m{\u001b[39;00mn\u001b[39m}\u001b[39;00m\u001b[39m is not in the digraph.\u001b[39m\u001b[39m\"\u001b[39m) \u001b[39mfrom\u001b[39;00m \u001b[39merr\u001b[39;00m\n",
      "\u001b[1;31mNetworkXError\u001b[0m: The node grupos_10_prediccion is not in the digraph."
     ]
    }
   ],
   "source": [
    "# Realizar la predicción para cada semestre\n",
    "predicciones = []\n",
    "for semestre in range(1, data['semestre'].max() + 1):\n",
    "    evidencia = {}\n",
    "    for i in range(1, 11):\n",
    "        grupo = data.loc[data['semestre'] == semestre, f'grupos_{i}'].values.astype(int)[0]\n",
    "        evidencia[f'grupos_{i}'] = grupo\n",
    "    resultado = inference.map_query(variables=['grupos_10_prediccion'], evidence=evidencia)  # Cambiamos el nombre de 'grupos_10' a 'grupos_10_prediccion'\n",
    "    predicciones.append((semestre, resultado['grupos_10_prediccion'][0]))  # Tomamos el valor escalar de la predicción\n",
    "\n",
    "\n"
   ]
  },
  {
   "cell_type": "code",
   "execution_count": 59,
   "metadata": {},
   "outputs": [],
   "source": [
    "# Mostrar las predicciones\n",
    "for pred in predicciones:\n",
    "    print(f\"Semestre: {pred[0]}, Número de grupos predicho: {pred[1]}\")"
   ]
  },
  {
   "cell_type": "code",
   "execution_count": 60,
   "metadata": {},
   "outputs": [
    {
     "data": {
      "text/plain": [
       "[]"
      ]
     },
     "execution_count": 60,
     "metadata": {},
     "output_type": "execute_result"
    }
   ],
   "source": [
    "predicciones"
   ]
  }
 ],
 "metadata": {
  "kernelspec": {
   "display_name": "Python 3",
   "language": "python",
   "name": "python3"
  },
  "language_info": {
   "codemirror_mode": {
    "name": "ipython",
    "version": 3
   },
   "file_extension": ".py",
   "mimetype": "text/x-python",
   "name": "python",
   "nbconvert_exporter": "python",
   "pygments_lexer": "ipython3",
   "version": "3.11.2"
  },
  "orig_nbformat": 4
 },
 "nbformat": 4,
 "nbformat_minor": 2
}
