{
 "cells": [
  {
   "cell_type": "markdown",
   "metadata": {},
   "source": [
    "## Prediccion de Valores \n",
    "\n",
    "- Esta prediccion de valores se esta realizacon con un prcceso manual\n",
    "- No se esta aplicando ningun modelo de machine learning\n",
    "- Trabajando directamente con el archivo CSV, sin uso de un DataFrame"
   ]
  },
  {
   "cell_type": "markdown",
   "metadata": {},
   "source": [
    "### Importacion de librerias"
   ]
  },
  {
   "cell_type": "code",
   "execution_count": 18,
   "metadata": {},
   "outputs": [],
   "source": [
    "import csv\n",
    "import numpy as np \n",
    "#from sklearn.linear_model import LinearRegression\n"
   ]
  },
  {
   "cell_type": "markdown",
   "metadata": {},
   "source": [
    "### 1. Carga de datos:\n",
    "- Leemos el archivo CSV con los datos históricos\n",
    "- Almacenamos los datos en una lista de listas llamada 'data'"
   ]
  },
  {
   "cell_type": "code",
   "execution_count": 19,
   "metadata": {},
   "outputs": [],
   "source": [
    "# Leer datos de CSV\n",
    "with open('../tableClaude.csv') as f:\n",
    "  reader = csv.reader(f)\n",
    "  next(reader)\n",
    "  \n",
    "  data = list(reader)\n",
    " "
   ]
  },
  {
   "cell_type": "markdown",
   "metadata": {},
   "source": [
    "#### Impresion de la data"
   ]
  },
  {
   "cell_type": "code",
   "execution_count": 32,
   "metadata": {},
   "outputs": [
    {
     "data": {
      "text/plain": [
       "[['0', '15', '18', '12', '18', '0', '0', '0', '0'],\n",
       " ['2', '24', '19', '13', '14', '12', '0', '0', '0'],\n",
       " ['3', '19', '22', '17', '12', '12', '12', '10', '0'],\n",
       " ['1', '19', '18', '18', '12', '12', '13', '15', '2'],\n",
       " ['4', '19', '18', '18', '12', '12', '14', '15', '2'],\n",
       " ['2', '32', '18', '18', '17', '12', '12', '12', '7'],\n",
       " ['2', '14', '24', '17', '18', '14', '12', '11', '6'],\n",
       " ['1', '26', '14', '23', '16', '18', '12', '12', '5'],\n",
       " ['2', '22', '13', '22', '18', '14', '19', '13', '4'],\n",
       " ['2', '25', '15', '13', '12', '14', '12', '12', '6'],\n",
       " ['2', '24', '21', '12', '18', '12', '13', '11', '8'],\n",
       " ['2', '25', '19', '17', '12', '17', '10', '12', '8'],\n",
       " ['3', '20', '21', '16', '18', '12', '16', '15', '13'],\n",
       " ['4', '22', '18', '18', '12', '12', '10', '15', '11'],\n",
       " ['3', '21', '19', '18', '17', '12', '18', '15', '11'],\n",
       " ['4', '22', '18', '18', '12', '12', '13', '15', '11'],\n",
       " ['3', '24', '20', '19', '18', '12', '18', '17', '10'],\n",
       " ['3', '30', '19', '20', '18', '18', '12', '18', '11'],\n",
       " ['3', '23', '24', '18', '18', '12', '18', '14', '11'],\n",
       " ['6', '26', '23', '24', '18', '18', '18', '12', '16'],\n",
       " ['3', '21', '24', '18', '17', '22', '18', '11', '14'],\n",
       " ['3', '23', '20', '18', '14', '18', '17', '14', '10']]"
      ]
     },
     "execution_count": 32,
     "metadata": {},
     "output_type": "execute_result"
    }
   ],
   "source": [
    "data"
   ]
  },
  {
   "cell_type": "code",
   "execution_count": 21,
   "metadata": {},
   "outputs": [],
   "source": [
    "#data.head() #Eesto no aplica porque no estamos trabajando con un dataframe sino directamente con un archivo CSV"
   ]
  },
  {
   "cell_type": "markdown",
   "metadata": {},
   "source": [
    "### 2. Cálculo de estadísticas por semestre:\n",
    "- Usamos un ciclo for de 0 a 8 para iterar sobre los 9 semestres\n",
    "- Por cada semestre, extraemos los valores de esa columna en una lista 'columna'\n",
    "- Calculamos la media (promedio) de la columna usando np.mean(columna)\n",
    "- Almacenamos este promedio en una lista 'promedios'"
   ]
  },
  {
   "cell_type": "code",
   "execution_count": 42,
   "metadata": {},
   "outputs": [],
   "source": [
    "# Calcula promedios por semestre  \n",
    "semester_avgs = []\n",
    "for i in range(9):\n",
    "  col = [float(row[i]) for row in data]\n",
    "  #avg = sum(col) / len(col)\n",
    "  avg = np.mean(col)\n",
    "  semester_avgs.append(avg)"
   ]
  },
  {
   "cell_type": "code",
   "execution_count": 43,
   "metadata": {},
   "outputs": [
    {
     "name": "stdout",
     "output_type": "stream",
     "text": [
      "7.545454545454546\n"
     ]
    }
   ],
   "source": [
    "#print(avg)\n",
    "print(avg)"
   ]
  },
  {
   "cell_type": "markdown",
   "metadata": {},
   "source": [
    "### Impresion promedio por semestre"
   ]
  },
  {
   "cell_type": "code",
   "execution_count": 23,
   "metadata": {},
   "outputs": [
    {
     "data": {
      "text/plain": [
       "[2.6363636363636362,\n",
       " 22.545454545454547,\n",
       " 19.318181818181817,\n",
       " 17.59090909090909,\n",
       " 15.5,\n",
       " 13.5,\n",
       " 13.045454545454545,\n",
       " 12.227272727272727,\n",
       " 7.545454545454546]"
      ]
     },
     "execution_count": 23,
     "metadata": {},
     "output_type": "execute_result"
    }
   ],
   "source": [
    "semester_avgs #Imprimiendo el promedio de cada semestre"
   ]
  },
  {
   "cell_type": "markdown",
   "metadata": {},
   "source": [
    "### 3. Análisis de tendencias:\n",
    "\n",
    "* Separamos la lista 'promedios' en dos partes:\n",
    "  - 'prom_crecientes' con los promedios de los semestres 1 a 5\n",
    "  - 'prom_decrecientes' con los semestres 6 a 9\n",
    "* Esto porque visualmente vimos una tendencia creciente en los primeros semestres y decreciente en los últimos"
   ]
  },
  {
   "cell_type": "code",
   "execution_count": 44,
   "metadata": {},
   "outputs": [],
   "source": [
    "# Identifica tendencia creciente y decreciente\n",
    "inc_sems = semester_avgs[:5] #Crecientes\n",
    "dec_sems = semester_avgs[5:] # Decrecientes\n"
   ]
  },
  {
   "cell_type": "markdown",
   "metadata": {},
   "source": [
    "### Imprimiedo la tendencia Creciente y Decreciente"
   ]
  },
  {
   "cell_type": "code",
   "execution_count": 25,
   "metadata": {},
   "outputs": [
    {
     "name": "stdout",
     "output_type": "stream",
     "text": [
      "Tendencia Creciente :  [2.6363636363636362, 22.545454545454547, 19.318181818181817, 17.59090909090909, 15.5]\n",
      "Tendencia decreciente :  [13.5, 13.045454545454545, 12.227272727272727, 7.545454545454546]\n"
     ]
    }
   ],
   "source": [
    "print(\"Tendencia Creciente : \",inc_sems)\n",
    "print(\"Tendencia decreciente : \",dec_sems)"
   ]
  },
  {
   "cell_type": "markdown",
   "metadata": {},
   "source": [
    "### 4. Aplicar continuación de tendencias:\n",
    "- Para los semestres con tendencia creciente, sumamos 0.5 al promedio histórico, asumiendo que seguirá incrementando\n",
    "- Para los de tendencia decreciente, restamos 0.5 al promedio histórico, asumiendo que seguirá disminuyendo\n",
    "- Juntamos los resultados en una lista 'predicciones'"
   ]
  },
  {
   "cell_type": "code",
   "execution_count": 26,
   "metadata": {},
   "outputs": [],
   "source": [
    "\n",
    "# Aplica continuación de tendencias \n",
    "inc_pred = [avg + 0.5 for avg in inc_sems]\n",
    "dec_pred = [avg - 0.5 for avg in dec_sems]"
   ]
  },
  {
   "cell_type": "code",
   "execution_count": 27,
   "metadata": {},
   "outputs": [],
   "source": [
    "predictions = inc_pred + dec_pred \n"
   ]
  },
  {
   "cell_type": "markdown",
   "metadata": {},
   "source": [
    "### 5. Redondeo de predicciones:\n",
    "- Usamos una lista por comprensión para redondear los valores float de 'predicciones'\n"
   ]
  },
  {
   "cell_type": "code",
   "execution_count": 28,
   "metadata": {},
   "outputs": [],
   "source": [
    "# Redondeo \n",
    "predictions = [round(x) for x in predictions]\n"
   ]
  },
  {
   "cell_type": "markdown",
   "metadata": {},
   "source": [
    "### 6. Mostrar predicciones:\n",
    "- Imprimimos la lista 'predicciones' con los valores para los 9 semestres"
   ]
  },
  {
   "cell_type": "code",
   "execution_count": 29,
   "metadata": {},
   "outputs": [
    {
     "name": "stdout",
     "output_type": "stream",
     "text": [
      "Sem\tSem1\tSem2\tSem3\tSem4\tSem5\tSem6\tSem7\tSem8\tSem9\t\n",
      "Sem1\t3\tSem2\t23\tSem3\t20\tSem4\t18\tSem5\t16\tSem6\t13\tSem7\t13\tSem8\t12\tSem9\t7\t\n"
     ]
    }
   ],
   "source": [
    "# Lectura de datos y cálculo de predicciones (igual)\n",
    "\n",
    "# Imprimir encabezados \n",
    "print(\"Sem\", end=\"\\t\")\n",
    "for i in range(1,10):\n",
    "  print(f\"Sem{i}\", end=\"\\t\")\n",
    "\n",
    "print() # Salto línea \n",
    "\n",
    "# Imprimir predicciones alineadas \n",
    "for i in range(9):\n",
    "  print(f\"Sem{i+1}\", end=\"\\t\")\n",
    "  print(f\"{predictions[i]}\", end=\"\\t\")\n",
    "\n",
    "print() # Salto línea"
   ]
  }
 ],
 "metadata": {
  "kernelspec": {
   "display_name": "Python 3",
   "language": "python",
   "name": "python3"
  },
  "language_info": {
   "codemirror_mode": {
    "name": "ipython",
    "version": 3
   },
   "file_extension": ".py",
   "mimetype": "text/x-python",
   "name": "python",
   "nbconvert_exporter": "python",
   "pygments_lexer": "ipython3",
   "version": "3.11.2"
  },
  "orig_nbformat": 4
 },
 "nbformat": 4,
 "nbformat_minor": 2
}
