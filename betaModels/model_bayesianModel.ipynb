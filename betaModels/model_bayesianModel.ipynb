{
 "cells": [
  {
   "cell_type": "code",
   "execution_count": 11,
   "metadata": {},
   "outputs": [],
   "source": [
    "import pandas as pd\n",
    "from pgmpy.models import BayesianModel\n",
    "from pgmpy.estimators import MaximumLikelihoodEstimator\n",
    "from sklearn.model_selection import train_test_split"
   ]
  },
  {
   "cell_type": "code",
   "execution_count": null,
   "metadata": {},
   "outputs": [],
   "source": [
    "# Definir estructura\n",
    "model = BayesianModel([\n",
    "    ('sem1', 'sem2'),\n",
    "    ('sem2', 'sem3'), \n",
    "    #\n",
    "])\n",
    "\n",
    "# Inferencia\n",
    "prediccion = model.predict(\n",
    "   variables=['sem9'],\n",
    "   evidence={'sem1': 10, 'sem2': 20, 'sem3': 15} \n",
    ")"
   ]
  },
  {
   "cell_type": "code",
   "execution_count": 12,
   "metadata": {},
   "outputs": [],
   "source": [
    "# Funciones\n",
    "\n",
    "def crear_red(data):\n",
    "  # Definir estructura\n",
    "  model = BayesianModel([('var1', 'var2'), ('var2', 'var3')]) \n",
    "  \n",
    "  # Aprender parametros\n",
    "  model.fit(data)\n",
    "\n",
    "  return model\n",
    "\n",
    "def predecir(model, evidencia):\n",
    "  # Inferencia probabilistica\n",
    "  return model.predict(variables=['var3'], evidence=evidencia)"
   ]
  },
  {
   "cell_type": "code",
   "execution_count": 13,
   "metadata": {},
   "outputs": [],
   "source": [
    "# Cargar datos \n",
    "data = pd.read_csv('../tableClaude.csv')"
   ]
  },
  {
   "cell_type": "code",
   "execution_count": 14,
   "metadata": {},
   "outputs": [],
   "source": [
    "# Divide dataset\n",
    "X_train, X_test = train_test_split(data)"
   ]
  },
  {
   "cell_type": "code",
   "execution_count": 15,
   "metadata": {},
   "outputs": [
    {
     "name": "stderr",
     "output_type": "stream",
     "text": [
      "c:\\Users\\ernes\\AppData\\Local\\Programs\\Python\\Python311\\Lib\\site-packages\\pgmpy\\models\\BayesianModel.py:8: FutureWarning: BayesianModel has been renamed to BayesianNetwork. Please use BayesianNetwork class, BayesianModel will be removed in future.\n",
      "  warnings.warn(\n"
     ]
    },
    {
     "ename": "ValueError",
     "evalue": "variable names of the model must be identical to column names in data",
     "output_type": "error",
     "traceback": [
      "\u001b[1;31m---------------------------------------------------------------------------\u001b[0m",
      "\u001b[1;31mValueError\u001b[0m                                Traceback (most recent call last)",
      "Cell \u001b[1;32mIn[15], line 2\u001b[0m\n\u001b[0;32m      1\u001b[0m \u001b[39m# Crear y entrenar red \u001b[39;00m\n\u001b[1;32m----> 2\u001b[0m model \u001b[39m=\u001b[39m crear_red(X_train)\n",
      "Cell \u001b[1;32mIn[12], line 8\u001b[0m, in \u001b[0;36mcrear_red\u001b[1;34m(data)\u001b[0m\n\u001b[0;32m      5\u001b[0m model \u001b[39m=\u001b[39m BayesianModel([(\u001b[39m'\u001b[39m\u001b[39mvar1\u001b[39m\u001b[39m'\u001b[39m, \u001b[39m'\u001b[39m\u001b[39mvar2\u001b[39m\u001b[39m'\u001b[39m), (\u001b[39m'\u001b[39m\u001b[39mvar2\u001b[39m\u001b[39m'\u001b[39m, \u001b[39m'\u001b[39m\u001b[39mvar3\u001b[39m\u001b[39m'\u001b[39m)]) \n\u001b[0;32m      7\u001b[0m \u001b[39m# Aprender parametros\u001b[39;00m\n\u001b[1;32m----> 8\u001b[0m model\u001b[39m.\u001b[39;49mfit(data)\n\u001b[0;32m     10\u001b[0m \u001b[39mreturn\u001b[39;00m model\n",
      "File \u001b[1;32mc:\\Users\\ernes\\AppData\\Local\\Programs\\Python\\Python311\\Lib\\site-packages\\pgmpy\\models\\BayesianNetwork.py:580\u001b[0m, in \u001b[0;36mBayesianNetwork.fit\u001b[1;34m(self, data, estimator, state_names, complete_samples_only, n_jobs, **kwargs)\u001b[0m\n\u001b[0;32m    577\u001b[0m     \u001b[39mif\u001b[39;00m \u001b[39mnot\u001b[39;00m \u001b[39missubclass\u001b[39m(estimator, BaseEstimator):\n\u001b[0;32m    578\u001b[0m         \u001b[39mraise\u001b[39;00m \u001b[39mTypeError\u001b[39;00m(\u001b[39m\"\u001b[39m\u001b[39mEstimator object should be a valid pgmpy estimator.\u001b[39m\u001b[39m\"\u001b[39m)\n\u001b[1;32m--> 580\u001b[0m _estimator \u001b[39m=\u001b[39m estimator(\n\u001b[0;32m    581\u001b[0m     \u001b[39mself\u001b[39;49m,\n\u001b[0;32m    582\u001b[0m     data,\n\u001b[0;32m    583\u001b[0m     state_names\u001b[39m=\u001b[39;49mstate_names,\n\u001b[0;32m    584\u001b[0m     complete_samples_only\u001b[39m=\u001b[39;49mcomplete_samples_only,\n\u001b[0;32m    585\u001b[0m )\n\u001b[0;32m    586\u001b[0m cpds_list \u001b[39m=\u001b[39m _estimator\u001b[39m.\u001b[39mget_parameters(n_jobs\u001b[39m=\u001b[39mn_jobs, \u001b[39m*\u001b[39m\u001b[39m*\u001b[39mkwargs)\n\u001b[0;32m    587\u001b[0m \u001b[39mself\u001b[39m\u001b[39m.\u001b[39madd_cpds(\u001b[39m*\u001b[39mcpds_list)\n",
      "File \u001b[1;32mc:\\Users\\ernes\\AppData\\Local\\Programs\\Python\\Python311\\Lib\\site-packages\\pgmpy\\estimators\\MLE.py:57\u001b[0m, in \u001b[0;36mMaximumLikelihoodEstimator.__init__\u001b[1;34m(self, model, data, **kwargs)\u001b[0m\n\u001b[0;32m     52\u001b[0m \u001b[39melif\u001b[39;00m \u001b[39mset\u001b[39m(model\u001b[39m.\u001b[39mnodes()) \u001b[39m>\u001b[39m \u001b[39mset\u001b[39m(data\u001b[39m.\u001b[39mcolumns):\n\u001b[0;32m     53\u001b[0m     \u001b[39mraise\u001b[39;00m \u001b[39mValueError\u001b[39;00m(\n\u001b[0;32m     54\u001b[0m         \u001b[39mf\u001b[39m\u001b[39m\"\u001b[39m\u001b[39mMaximum Likelihood Estimator works only for models with all observed variables. Found latent variables: \u001b[39m\u001b[39m{\u001b[39;00mmodel\u001b[39m.\u001b[39mlatents\u001b[39m}\u001b[39;00m\u001b[39m.\u001b[39m\u001b[39m\"\u001b[39m\n\u001b[0;32m     55\u001b[0m     )\n\u001b[1;32m---> 57\u001b[0m \u001b[39msuper\u001b[39;49m(MaximumLikelihoodEstimator, \u001b[39mself\u001b[39;49m)\u001b[39m.\u001b[39;49m\u001b[39m__init__\u001b[39;49m(model, data, \u001b[39m*\u001b[39;49m\u001b[39m*\u001b[39;49mkwargs)\n",
      "File \u001b[1;32mc:\\Users\\ernes\\AppData\\Local\\Programs\\Python\\Python311\\Lib\\site-packages\\pgmpy\\estimators\\base.py:222\u001b[0m, in \u001b[0;36mParameterEstimator.__init__\u001b[1;34m(self, model, data, **kwargs)\u001b[0m\n\u001b[0;32m    196\u001b[0m \u001b[39m\u001b[39m\u001b[39m\"\"\"\u001b[39;00m\n\u001b[0;32m    197\u001b[0m \u001b[39mBase class for parameter estimators in pgmpy.\u001b[39;00m\n\u001b[0;32m    198\u001b[0m \n\u001b[1;32m   (...)\u001b[0m\n\u001b[0;32m    218\u001b[0m \u001b[39m    This sets the behavior of the `state_count`-method.\u001b[39;00m\n\u001b[0;32m    219\u001b[0m \u001b[39m\"\"\"\u001b[39;00m\n\u001b[0;32m    221\u001b[0m \u001b[39mif\u001b[39;00m \u001b[39mnot\u001b[39;00m (\u001b[39mset\u001b[39m(model\u001b[39m.\u001b[39mnodes()) \u001b[39m-\u001b[39m model\u001b[39m.\u001b[39mlatents) \u001b[39m<\u001b[39m\u001b[39m=\u001b[39m \u001b[39mset\u001b[39m(data\u001b[39m.\u001b[39mcolumns\u001b[39m.\u001b[39mvalues):\n\u001b[1;32m--> 222\u001b[0m     \u001b[39mraise\u001b[39;00m \u001b[39mValueError\u001b[39;00m(\n\u001b[0;32m    223\u001b[0m         \u001b[39m\"\u001b[39m\u001b[39mvariable names of the model must be identical to column names in data\u001b[39m\u001b[39m\"\u001b[39m\n\u001b[0;32m    224\u001b[0m     )\n\u001b[0;32m    225\u001b[0m \u001b[39mself\u001b[39m\u001b[39m.\u001b[39mmodel \u001b[39m=\u001b[39m model\n\u001b[0;32m    227\u001b[0m \u001b[39msuper\u001b[39m(ParameterEstimator, \u001b[39mself\u001b[39m)\u001b[39m.\u001b[39m\u001b[39m__init__\u001b[39m(data, \u001b[39m*\u001b[39m\u001b[39m*\u001b[39mkwargs)\n",
      "\u001b[1;31mValueError\u001b[0m: variable names of the model must be identical to column names in data"
     ]
    }
   ],
   "source": [
    "# Crear y entrenar red \n",
    "model = crear_red(X_train)"
   ]
  },
  {
   "cell_type": "code",
   "execution_count": null,
   "metadata": {},
   "outputs": [],
   "source": [
    "# Evaluar\n",
    "y_real = X_test['var3']\n",
    "y_pred = predecir(model, X_test[['var1','var2']])\n",
    "accuracy = (y_real == y_pred).mean()"
   ]
  },
  {
   "cell_type": "code",
   "execution_count": null,
   "metadata": {},
   "outputs": [],
   "source": [
    "# Bucle de prediccion \n",
    "for i in range(9):\n",
    "   print(\"Semestre\", i+1, \":\", predecir(model, evidencia))\n",
    "\n",
    "print(\"Accuracy:\", accuracy)"
   ]
  }
 ],
 "metadata": {
  "kernelspec": {
   "display_name": "Python 3",
   "language": "python",
   "name": "python3"
  },
  "language_info": {
   "codemirror_mode": {
    "name": "ipython",
    "version": 3
   },
   "file_extension": ".py",
   "mimetype": "text/x-python",
   "name": "python",
   "nbconvert_exporter": "python",
   "pygments_lexer": "ipython3",
   "version": "3.11.2"
  },
  "orig_nbformat": 4
 },
 "nbformat": 4,
 "nbformat_minor": 2
}
